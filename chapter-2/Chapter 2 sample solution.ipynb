{
 "cells": [
  {
   "cell_type": "markdown",
   "id": "415661c1",
   "metadata": {},
   "source": [
    "# Solve Any Data Analysis Problem\n",
    "\n",
    "## Chapter 2 - Example project: Where are your customers based?"
   ]
  },
  {
   "cell_type": "markdown",
   "id": "ccd630ef",
   "metadata": {},
   "source": [
    "# Goals\n",
    "\n",
    "The research question is to calculate customer spend by city, and use this data to compare London with the rest of the UK.\n",
    "\n",
    "- **explore** the customer address data\n",
    "- **come up with a method** to extract the city from the address field\n",
    "- **calculate** total spend per city\n",
    "- **analyze** results to understand the spending of London customers vs. those outside London\n",
    "\n",
    "### Final output\n",
    "\n",
    "A dataset containing one row per city and the corresponding total customer spend."
   ]
  },
  {
   "cell_type": "code",
   "execution_count": 1,
   "id": "c964afd4",
   "metadata": {},
   "outputs": [],
   "source": [
    "import pandas as pd"
   ]
  },
  {
   "cell_type": "code",
   "execution_count": 2,
   "id": "12aff501",
   "metadata": {},
   "outputs": [
    {
     "name": "stdout",
     "output_type": "stream",
     "text": [
      "(100000, 3)\n"
     ]
    },
    {
     "data": {
      "text/html": [
       "<div>\n",
       "<style scoped>\n",
       "    .dataframe tbody tr th:only-of-type {\n",
       "        vertical-align: middle;\n",
       "    }\n",
       "\n",
       "    .dataframe tbody tr th {\n",
       "        vertical-align: top;\n",
       "    }\n",
       "\n",
       "    .dataframe thead th {\n",
       "        text-align: right;\n",
       "    }\n",
       "</style>\n",
       "<table border=\"1\" class=\"dataframe\">\n",
       "  <thead>\n",
       "    <tr style=\"text-align: right;\">\n",
       "      <th></th>\n",
       "      <th>company_id</th>\n",
       "      <th>address</th>\n",
       "      <th>total_spend</th>\n",
       "    </tr>\n",
       "  </thead>\n",
       "  <tbody>\n",
       "    <tr>\n",
       "      <th>0</th>\n",
       "      <td>1</td>\n",
       "      <td>APARTMENT 2,\\n52 BEDFORD ROAD,\\nLONDON,\\nENGLA...</td>\n",
       "      <td>5700</td>\n",
       "    </tr>\n",
       "    <tr>\n",
       "      <th>1</th>\n",
       "      <td>2</td>\n",
       "      <td>107 SHERINGHAM AVENUE,\\nLONDON,\\nN14 4UJ</td>\n",
       "      <td>4700</td>\n",
       "    </tr>\n",
       "    <tr>\n",
       "      <th>2</th>\n",
       "      <td>3</td>\n",
       "      <td>43 SUNNINGDALE,\\nYATE,\\nBRISTOL,\\nENGLAND,\\nBS...</td>\n",
       "      <td>5900</td>\n",
       "    </tr>\n",
       "    <tr>\n",
       "      <th>3</th>\n",
       "      <td>4</td>\n",
       "      <td>HAWESWATER HOUSE,\\nLINGLEY MERE BUSINESS PARK,...</td>\n",
       "      <td>7200</td>\n",
       "    </tr>\n",
       "    <tr>\n",
       "      <th>4</th>\n",
       "      <td>5</td>\n",
       "      <td>AMBERFIELD BARN HOUSE AMBER LANE,\\nCHART SUTTO...</td>\n",
       "      <td>4600</td>\n",
       "    </tr>\n",
       "  </tbody>\n",
       "</table>\n",
       "</div>"
      ],
      "text/plain": [
       "   company_id                                            address  total_spend\n",
       "0           1  APARTMENT 2,\\n52 BEDFORD ROAD,\\nLONDON,\\nENGLA...         5700\n",
       "1           2           107 SHERINGHAM AVENUE,\\nLONDON,\\nN14 4UJ         4700\n",
       "2           3  43 SUNNINGDALE,\\nYATE,\\nBRISTOL,\\nENGLAND,\\nBS...         5900\n",
       "3           4  HAWESWATER HOUSE,\\nLINGLEY MERE BUSINESS PARK,...         7200\n",
       "4           5  AMBERFIELD BARN HOUSE AMBER LANE,\\nCHART SUTTO...         4600"
      ]
     },
     "execution_count": 2,
     "metadata": {},
     "output_type": "execute_result"
    }
   ],
   "source": [
    "customers = pd.read_csv(\"./data/addresses.csv\")\n",
    "\n",
    "print(customers.shape)\n",
    "\n",
    "customers.head()"
   ]
  },
  {
   "cell_type": "code",
   "execution_count": 3,
   "id": "ac65e1f0",
   "metadata": {},
   "outputs": [
    {
     "data": {
      "text/plain": [
       "company_id       0\n",
       "address        968\n",
       "total_spend      0\n",
       "dtype: int64"
      ]
     },
     "execution_count": 3,
     "metadata": {},
     "output_type": "execute_result"
    }
   ],
   "source": [
    "customers.isnull().sum()"
   ]
  },
  {
   "cell_type": "markdown",
   "id": "959d7297",
   "metadata": {},
   "source": [
    "Looks like we have some missing addresses, let's remove those"
   ]
  },
  {
   "cell_type": "code",
   "execution_count": 4,
   "id": "945a0f5b",
   "metadata": {},
   "outputs": [],
   "source": [
    "customers.dropna(subset=[\"address\"], inplace=True)"
   ]
  },
  {
   "cell_type": "markdown",
   "id": "a0e6f9eb",
   "metadata": {},
   "source": [
    "Let's also check our total spend column for any strange values"
   ]
  },
  {
   "cell_type": "code",
   "execution_count": 5,
   "id": "ff2fd032",
   "metadata": {},
   "outputs": [
    {
     "data": {
      "text/plain": [
       "count    99032.000000\n",
       "mean      4951.673197\n",
       "std       1500.642398\n",
       "min          0.000000\n",
       "25%       3900.000000\n",
       "50%       5000.000000\n",
       "75%       6000.000000\n",
       "max      11700.000000\n",
       "Name: total_spend, dtype: float64"
      ]
     },
     "execution_count": 5,
     "metadata": {},
     "output_type": "execute_result"
    }
   ],
   "source": [
    "customers[\"total_spend\"].describe()"
   ]
  },
  {
   "cell_type": "markdown",
   "id": "9352d080",
   "metadata": {},
   "source": [
    "Let's examine a sample address"
   ]
  },
  {
   "cell_type": "code",
   "execution_count": 6,
   "id": "08297098",
   "metadata": {},
   "outputs": [
    {
     "name": "stdout",
     "output_type": "stream",
     "text": [
      "APARTMENT 2,\n",
      "52 BEDFORD ROAD,\n",
      "LONDON,\n",
      "ENGLAND,\n",
      "SW4 7HJ\n"
     ]
    }
   ],
   "source": [
    "print(customers.loc[0, \"address\"])"
   ]
  },
  {
   "cell_type": "markdown",
   "id": "affed810",
   "metadata": {},
   "source": [
    "And some more"
   ]
  },
  {
   "cell_type": "code",
   "execution_count": 7,
   "id": "1c8faf0b",
   "metadata": {},
   "outputs": [
    {
     "name": "stdout",
     "output_type": "stream",
     "text": [
      "APARTMENT 2,\n",
      "52 BEDFORD ROAD,\n",
      "LONDON,\n",
      "ENGLAND,\n",
      "SW4 7HJ \n",
      "\n",
      "107 SHERINGHAM AVENUE,\n",
      "LONDON,\n",
      "N14 4UJ \n",
      "\n",
      "43 SUNNINGDALE,\n",
      "YATE,\n",
      "BRISTOL,\n",
      "ENGLAND,\n",
      "BS37 4HZ \n",
      "\n",
      "HAWESWATER HOUSE,\n",
      "LINGLEY MERE BUSINESS PARK,\n",
      "LINGLEY GREEN AVENUE,\n",
      "GREAT SANKEY, WARRINGTON,\n",
      "WA5 3LP \n",
      "\n",
      "AMBERFIELD BARN HOUSE AMBER LANE,\n",
      "CHART SUTTON,\n",
      "MAIDSTONE,\n",
      "ENGLAND,\n",
      "ME17 3SF \n",
      "\n"
     ]
    }
   ],
   "source": [
    "for address in customers[\"address\"].head():\n",
    "    print(address, \"\\n\")"
   ]
  },
  {
   "cell_type": "markdown",
   "id": "4e8ba6ef",
   "metadata": {},
   "source": [
    "We can't assume all addresses will be in this form, but it does look like each component is separated by a comma and a new line.\n",
    "\n",
    "Let's uppercase everything to ensure we don't have anything in a different case."
   ]
  },
  {
   "cell_type": "code",
   "execution_count": 8,
   "id": "1a13dcb8",
   "metadata": {},
   "outputs": [],
   "source": [
    "customers[\"address_clean\"] = customers[\"address\"].str.upper()"
   ]
  },
  {
   "cell_type": "markdown",
   "id": "505b249e",
   "metadata": {},
   "source": [
    "Let's look at how many addresses contain \"LONDON\" as a very basic check"
   ]
  },
  {
   "cell_type": "code",
   "execution_count": 9,
   "id": "d30e399f",
   "metadata": {},
   "outputs": [
    {
     "data": {
      "text/plain": [
       "21768"
      ]
     },
     "execution_count": 9,
     "metadata": {},
     "output_type": "execute_result"
    }
   ],
   "source": [
    "len(customers[customers[\"address_clean\"].str.contains(\"LONDON\")])"
   ]
  },
  {
   "cell_type": "markdown",
   "id": "d318975b",
   "metadata": {},
   "source": [
    "This will also return addresses like \"London Road\", so let's try looking for `\"LONDON,\"` instead (with the added comma)"
   ]
  },
  {
   "cell_type": "code",
   "execution_count": 10,
   "id": "be6e62da",
   "metadata": {},
   "outputs": [
    {
     "data": {
      "text/plain": [
       "20831"
      ]
     },
     "execution_count": 10,
     "metadata": {},
     "output_type": "execute_result"
    }
   ],
   "source": [
    "len(customers[customers[\"address_clean\"].str.contains(\"LONDON,\")])"
   ]
  },
  {
   "cell_type": "markdown",
   "id": "e160849d",
   "metadata": {},
   "source": [
    "That's probably closer to the correct figure.\n",
    "\n",
    "We want to know whether all addresses end with city, country and postcode. One way to check the variability of addresses is to look at how many lines they are."
   ]
  },
  {
   "cell_type": "code",
   "execution_count": 11,
   "id": "b3a33157",
   "metadata": {},
   "outputs": [],
   "source": [
    "customers[\"address_lines\"] = (\n",
    "    customers[\"address_clean\"]\n",
    "    .str.split(\",\\n\")\n",
    "    .apply(len)\n",
    ")"
   ]
  },
  {
   "cell_type": "code",
   "execution_count": 12,
   "id": "84557a1f",
   "metadata": {},
   "outputs": [
    {
     "data": {
      "text/plain": [
       "1        6\n",
       "2       52\n",
       "3     3284\n",
       "4    35850\n",
       "5    45931\n",
       "6    13909\n",
       "Name: address_lines, dtype: int64"
      ]
     },
     "execution_count": 12,
     "metadata": {},
     "output_type": "execute_result"
    }
   ],
   "source": [
    "customers[\"address_lines\"].value_counts().sort_index()"
   ]
  },
  {
   "cell_type": "markdown",
   "id": "f2a2c962",
   "metadata": {},
   "source": [
    "So we have anything from 1 line to 6! What are some examples of 1 or 2 lines?"
   ]
  },
  {
   "cell_type": "code",
   "execution_count": 13,
   "id": "b4e500fc",
   "metadata": {},
   "outputs": [
    {
     "name": "stdout",
     "output_type": "stream",
     "text": [
      "17789                      FALKIRK\n",
      "31897                   HADDINGTON\n",
      "61750          CREAG BHAITHEACHAIN\n",
      "75330                     NEWMILNS\n",
      "78045    REDCLOAK FARM, STONEHAVEN\n",
      "90897     REFER TO PARENT REGISTRY\n",
      "Name: address_clean, dtype: object\n"
     ]
    }
   ],
   "source": [
    "print(customers.loc[customers[\"address_lines\"] == 1, \"address_clean\"])"
   ]
  },
  {
   "cell_type": "code",
   "execution_count": 14,
   "id": "1e153ae8",
   "metadata": {},
   "outputs": [
    {
     "name": "stdout",
     "output_type": "stream",
     "text": [
      "39443                                    FORFAR,\\nANGUS\n",
      "80846                        12 HOPE STREET,\\nEDINBURGH\n",
      "95979    BRANCH REGISTRATION,\\nREFER TO PARENT REGISTRY\n",
      "23563    BRANCH REGISTRATION,\\nREFER TO PARENT REGISTRY\n",
      "81155                             PO BOX 2230,\\nGLASGOW\n",
      "Name: address_clean, dtype: object\n"
     ]
    }
   ],
   "source": [
    "print((\n",
    "    customers[customers[\"address_lines\"] == 2]\n",
    "    .sample(5, random_state=42)\n",
    "    [\"address_clean\"])\n",
    ")"
   ]
  },
  {
   "cell_type": "markdown",
   "id": "3a91d148",
   "metadata": {},
   "source": [
    "Some of these look like placeholders e.g. \"Refer to parent registry\" - perhaps companies with parent companies? Not much we can do with some of these short addresses.\n",
    "\n",
    "There also seem to be PO Box addresses, which while containing the city do pose another address form to deal with. \n",
    "\n",
    "We're at a a fork in the road. To identify the city component of these varied addresses we could do a number of things:\n",
    "\n",
    "1. have a rule for each address length, so for 5-line addresses we might assume city is the 4th line, for 6-line addresses we could take the 5th line and so on. This may be error prone given the variability of the addresses\n",
    "1. we could take a predefined list of cities and look for each of the city names in our addresses to determine whether that address is in that city\n",
    "1. we could find the postcode component of each address and look it up against a national database (which we would have to obtain and ensure we are allowed to use it)\n",
    "\n",
    "There are of course other options, such as sending the addresses to an external address lookup system like the Google Maps API and extract the city information from there. For now, option 2 seems like a good tradeoff between complexity and accuracy, so we'll give that a go.\n",
    "\n",
    "A list of UK cities can be found here: https://www.gov.uk/government/publications/list-of-cities/list-of-cities-html\n",
    "\n",
    "There are multiple ways to extract these into a code-friendly form, the simplest being to copy and paste the bullet points from the website directly into Excel, so each city is on a separate line, then import and clean the data here."
   ]
  },
  {
   "cell_type": "code",
   "execution_count": 15,
   "id": "36cb3993",
   "metadata": {},
   "outputs": [
    {
     "data": {
      "text/html": [
       "<div>\n",
       "<style scoped>\n",
       "    .dataframe tbody tr th:only-of-type {\n",
       "        vertical-align: middle;\n",
       "    }\n",
       "\n",
       "    .dataframe tbody tr th {\n",
       "        vertical-align: top;\n",
       "    }\n",
       "\n",
       "    .dataframe thead th {\n",
       "        text-align: right;\n",
       "    }\n",
       "</style>\n",
       "<table border=\"1\" class=\"dataframe\">\n",
       "  <thead>\n",
       "    <tr style=\"text-align: right;\">\n",
       "      <th></th>\n",
       "      <th>city</th>\n",
       "    </tr>\n",
       "  </thead>\n",
       "  <tbody>\n",
       "    <tr>\n",
       "      <th>0</th>\n",
       "      <td>England</td>\n",
       "    </tr>\n",
       "    <tr>\n",
       "      <th>1</th>\n",
       "      <td>Bath</td>\n",
       "    </tr>\n",
       "    <tr>\n",
       "      <th>2</th>\n",
       "      <td>Birmingham*</td>\n",
       "    </tr>\n",
       "    <tr>\n",
       "      <th>3</th>\n",
       "      <td>Bradford*</td>\n",
       "    </tr>\n",
       "    <tr>\n",
       "      <th>4</th>\n",
       "      <td>Brighton &amp; Hove</td>\n",
       "    </tr>\n",
       "  </tbody>\n",
       "</table>\n",
       "</div>"
      ],
      "text/plain": [
       "              city\n",
       "0          England\n",
       "1             Bath\n",
       "2      Birmingham*\n",
       "3        Bradford*\n",
       "4  Brighton & Hove"
      ]
     },
     "execution_count": 15,
     "metadata": {},
     "output_type": "execute_result"
    }
   ],
   "source": [
    "cities = pd.read_csv(\"./data/cities.csv\", header=None, names=[\"city\"])\n",
    "cities.head()"
   ]
  },
  {
   "cell_type": "markdown",
   "id": "83b80ff9",
   "metadata": {},
   "source": [
    "A few things to clean up here, such as:\n",
    "\n",
    "- removing country names\n",
    "- removing asterisk `*` characters at the end of some strings\n",
    "- uppercasing everything"
   ]
  },
  {
   "cell_type": "code",
   "execution_count": 16,
   "id": "0c0c758d",
   "metadata": {},
   "outputs": [
    {
     "name": "stdout",
     "output_type": "stream",
     "text": [
      "80\n",
      "76\n"
     ]
    }
   ],
   "source": [
    "countries_to_remove = [\"England\", \"Scotland\", \"Wales\", \"Northern Ireland\"]\n",
    "\n",
    "print(len(cities))\n",
    "cities_to_remove = cities[cities[\"city\"].isin(countries_to_remove)].index\n",
    "cities = cities.drop(index=cities_to_remove)\n",
    "print(len(cities))"
   ]
  },
  {
   "cell_type": "markdown",
   "id": "7e9ebfc2",
   "metadata": {},
   "source": [
    "Remove asterisks"
   ]
  },
  {
   "cell_type": "code",
   "execution_count": 17,
   "id": "8ccba86c",
   "metadata": {},
   "outputs": [],
   "source": [
    "cities[\"city\"] = cities[\"city\"].str.replace(\"*\", \"\", regex=False)"
   ]
  },
  {
   "cell_type": "markdown",
   "id": "df07a8ef",
   "metadata": {},
   "source": [
    "Uppercase everything"
   ]
  },
  {
   "cell_type": "code",
   "execution_count": 18,
   "id": "45a88cd0",
   "metadata": {},
   "outputs": [
    {
     "data": {
      "text/html": [
       "<div>\n",
       "<style scoped>\n",
       "    .dataframe tbody tr th:only-of-type {\n",
       "        vertical-align: middle;\n",
       "    }\n",
       "\n",
       "    .dataframe tbody tr th {\n",
       "        vertical-align: top;\n",
       "    }\n",
       "\n",
       "    .dataframe thead th {\n",
       "        text-align: right;\n",
       "    }\n",
       "</style>\n",
       "<table border=\"1\" class=\"dataframe\">\n",
       "  <thead>\n",
       "    <tr style=\"text-align: right;\">\n",
       "      <th></th>\n",
       "      <th>city</th>\n",
       "    </tr>\n",
       "  </thead>\n",
       "  <tbody>\n",
       "    <tr>\n",
       "      <th>1</th>\n",
       "      <td>BATH</td>\n",
       "    </tr>\n",
       "    <tr>\n",
       "      <th>2</th>\n",
       "      <td>BIRMINGHAM</td>\n",
       "    </tr>\n",
       "    <tr>\n",
       "      <th>3</th>\n",
       "      <td>BRADFORD</td>\n",
       "    </tr>\n",
       "    <tr>\n",
       "      <th>4</th>\n",
       "      <td>BRIGHTON &amp; HOVE</td>\n",
       "    </tr>\n",
       "    <tr>\n",
       "      <th>5</th>\n",
       "      <td>BRISTOL</td>\n",
       "    </tr>\n",
       "  </tbody>\n",
       "</table>\n",
       "</div>"
      ],
      "text/plain": [
       "              city\n",
       "1             BATH\n",
       "2       BIRMINGHAM\n",
       "3         BRADFORD\n",
       "4  BRIGHTON & HOVE\n",
       "5          BRISTOL"
      ]
     },
     "execution_count": 18,
     "metadata": {},
     "output_type": "execute_result"
    }
   ],
   "source": [
    "cities[\"city\"] = cities[\"city\"].str.upper()\n",
    "\n",
    "cities.head()"
   ]
  },
  {
   "cell_type": "markdown",
   "id": "afd61537",
   "metadata": {},
   "source": [
    "Now we have a list of cities to check against.\n",
    "\n",
    "For each city, check if the city name is in an address (with a preceding newline `\\n` and an added comma, so look for `\"\\nLONDON,\"` instead of `\"LONDON\"`, so that only address with the city on its own line are counted). If it is, mark the newly-created city column accordingly."
   ]
  },
  {
   "cell_type": "code",
   "execution_count": 19,
   "id": "cf211040",
   "metadata": {},
   "outputs": [],
   "source": [
    "for city in cities[\"city\"].values:\n",
    "    customers.loc[customers[\"address_clean\"].str.contains(f\"\\n{city},\"), \"city\"] = city"
   ]
  },
  {
   "cell_type": "markdown",
   "id": "eb015808",
   "metadata": {},
   "source": [
    "Anything that's still NULL gets categorised as \"Other\""
   ]
  },
  {
   "cell_type": "code",
   "execution_count": 20,
   "id": "34b50c5b",
   "metadata": {},
   "outputs": [],
   "source": [
    "customers[\"city\"].fillna(\"OTHER\", inplace=True)"
   ]
  },
  {
   "cell_type": "code",
   "execution_count": 21,
   "id": "441f5c79",
   "metadata": {},
   "outputs": [
    {
     "data": {
      "text/html": [
       "<div>\n",
       "<style scoped>\n",
       "    .dataframe tbody tr th:only-of-type {\n",
       "        vertical-align: middle;\n",
       "    }\n",
       "\n",
       "    .dataframe tbody tr th {\n",
       "        vertical-align: top;\n",
       "    }\n",
       "\n",
       "    .dataframe thead th {\n",
       "        text-align: right;\n",
       "    }\n",
       "</style>\n",
       "<table border=\"1\" class=\"dataframe\">\n",
       "  <thead>\n",
       "    <tr style=\"text-align: right;\">\n",
       "      <th></th>\n",
       "      <th>company_id</th>\n",
       "      <th>address</th>\n",
       "      <th>total_spend</th>\n",
       "      <th>address_clean</th>\n",
       "      <th>address_lines</th>\n",
       "      <th>city</th>\n",
       "    </tr>\n",
       "  </thead>\n",
       "  <tbody>\n",
       "    <tr>\n",
       "      <th>0</th>\n",
       "      <td>1</td>\n",
       "      <td>APARTMENT 2,\\n52 BEDFORD ROAD,\\nLONDON,\\nENGLA...</td>\n",
       "      <td>5700</td>\n",
       "      <td>APARTMENT 2,\\n52 BEDFORD ROAD,\\nLONDON,\\nENGLA...</td>\n",
       "      <td>5</td>\n",
       "      <td>LONDON</td>\n",
       "    </tr>\n",
       "    <tr>\n",
       "      <th>1</th>\n",
       "      <td>2</td>\n",
       "      <td>107 SHERINGHAM AVENUE,\\nLONDON,\\nN14 4UJ</td>\n",
       "      <td>4700</td>\n",
       "      <td>107 SHERINGHAM AVENUE,\\nLONDON,\\nN14 4UJ</td>\n",
       "      <td>3</td>\n",
       "      <td>LONDON</td>\n",
       "    </tr>\n",
       "    <tr>\n",
       "      <th>2</th>\n",
       "      <td>3</td>\n",
       "      <td>43 SUNNINGDALE,\\nYATE,\\nBRISTOL,\\nENGLAND,\\nBS...</td>\n",
       "      <td>5900</td>\n",
       "      <td>43 SUNNINGDALE,\\nYATE,\\nBRISTOL,\\nENGLAND,\\nBS...</td>\n",
       "      <td>5</td>\n",
       "      <td>BRISTOL</td>\n",
       "    </tr>\n",
       "    <tr>\n",
       "      <th>3</th>\n",
       "      <td>4</td>\n",
       "      <td>HAWESWATER HOUSE,\\nLINGLEY MERE BUSINESS PARK,...</td>\n",
       "      <td>7200</td>\n",
       "      <td>HAWESWATER HOUSE,\\nLINGLEY MERE BUSINESS PARK,...</td>\n",
       "      <td>5</td>\n",
       "      <td>OTHER</td>\n",
       "    </tr>\n",
       "    <tr>\n",
       "      <th>4</th>\n",
       "      <td>5</td>\n",
       "      <td>AMBERFIELD BARN HOUSE AMBER LANE,\\nCHART SUTTO...</td>\n",
       "      <td>4600</td>\n",
       "      <td>AMBERFIELD BARN HOUSE AMBER LANE,\\nCHART SUTTO...</td>\n",
       "      <td>5</td>\n",
       "      <td>OTHER</td>\n",
       "    </tr>\n",
       "  </tbody>\n",
       "</table>\n",
       "</div>"
      ],
      "text/plain": [
       "   company_id                                            address  total_spend  \\\n",
       "0           1  APARTMENT 2,\\n52 BEDFORD ROAD,\\nLONDON,\\nENGLA...         5700   \n",
       "1           2           107 SHERINGHAM AVENUE,\\nLONDON,\\nN14 4UJ         4700   \n",
       "2           3  43 SUNNINGDALE,\\nYATE,\\nBRISTOL,\\nENGLAND,\\nBS...         5900   \n",
       "3           4  HAWESWATER HOUSE,\\nLINGLEY MERE BUSINESS PARK,...         7200   \n",
       "4           5  AMBERFIELD BARN HOUSE AMBER LANE,\\nCHART SUTTO...         4600   \n",
       "\n",
       "                                       address_clean  address_lines     city  \n",
       "0  APARTMENT 2,\\n52 BEDFORD ROAD,\\nLONDON,\\nENGLA...              5   LONDON  \n",
       "1           107 SHERINGHAM AVENUE,\\nLONDON,\\nN14 4UJ              3   LONDON  \n",
       "2  43 SUNNINGDALE,\\nYATE,\\nBRISTOL,\\nENGLAND,\\nBS...              5  BRISTOL  \n",
       "3  HAWESWATER HOUSE,\\nLINGLEY MERE BUSINESS PARK,...              5    OTHER  \n",
       "4  AMBERFIELD BARN HOUSE AMBER LANE,\\nCHART SUTTO...              5    OTHER  "
      ]
     },
     "execution_count": 21,
     "metadata": {},
     "output_type": "execute_result"
    }
   ],
   "source": [
    "customers.head()"
   ]
  },
  {
   "cell_type": "markdown",
   "id": "856e2cfb",
   "metadata": {},
   "source": [
    "Let's look at the top 20 cities based on this categorisation"
   ]
  },
  {
   "cell_type": "code",
   "execution_count": 22,
   "id": "bff0d97f",
   "metadata": {},
   "outputs": [
    {
     "data": {
      "text/plain": [
       "OTHER            54458\n",
       "LONDON           20762\n",
       "MANCHESTER        1902\n",
       "BIRMINGHAM        1866\n",
       "GLASGOW           1273\n",
       "BRISTOL           1150\n",
       "LEEDS             1040\n",
       "EDINBURGH         1038\n",
       "LEICESTER          905\n",
       "NOTTINGHAM         838\n",
       "LIVERPOOL          838\n",
       "CARDIFF            797\n",
       "SHEFFIELD          706\n",
       "COVENTRY           553\n",
       "MILTON KEYNES      493\n",
       "SOUTHAMPTON        477\n",
       "NORWICH            449\n",
       "BRADFORD           417\n",
       "BELFAST            416\n",
       "PRESTON            406\n",
       "Name: city, dtype: int64"
      ]
     },
     "execution_count": 22,
     "metadata": {},
     "output_type": "execute_result"
    }
   ],
   "source": [
    "customers[\"city\"].value_counts().head(20)"
   ]
  },
  {
   "cell_type": "markdown",
   "id": "574e9fdf",
   "metadata": {},
   "source": [
    "More than half of our data is still in the \"Other\" category.\n",
    "\n",
    "Let's look at some examples."
   ]
  },
  {
   "cell_type": "code",
   "execution_count": 23,
   "id": "ded0a386",
   "metadata": {},
   "outputs": [
    {
     "name": "stdout",
     "output_type": "stream",
     "text": [
      "82 CROSSE COURTS,\n",
      "BASILDON,\n",
      "ENGLAND,\n",
      "SS15 5JE \n",
      "\n",
      "70 NORMAN CRESCENT,\n",
      "PINNER,\n",
      "ENGLAND,\n",
      "HA5 3QL \n",
      "\n",
      "23 STATION ROAD,\n",
      "GERRARDS CROSS,\n",
      "BUCKINGHAMSHIRE,\n",
      "ENGLAND,\n",
      "SL9 8ES \n",
      "\n",
      "5 STEWARTS PARK AVENUE,\n",
      "MARTON,\n",
      "MIDDLESBROUGH,\n",
      "CLEVELAND,\n",
      "UNITED KINGDOM,\n",
      "TS4 3FD \n",
      "\n",
      "FIRST FLOOR,\n",
      "6 YORK STREET,\n",
      "TWICKENHAM,\n",
      "ENGLAND,\n",
      "TW1 3LD \n",
      "\n"
     ]
    }
   ],
   "source": [
    "sample_other = customers[customers[\"city\"] == \"OTHER\"].sample(5, random_state=42)\n",
    "for address in sample_other[\"address_clean\"].values:\n",
    "    print(address, \"\\n\")"
   ]
  },
  {
   "cell_type": "markdown",
   "id": "e0016646",
   "metadata": {},
   "source": [
    "Let's check how many cities we now have in our customer data vs. the number of cities in our city list."
   ]
  },
  {
   "cell_type": "code",
   "execution_count": 24,
   "id": "fa2b264c",
   "metadata": {},
   "outputs": [
    {
     "name": "stdout",
     "output_type": "stream",
     "text": [
      "75 cities in customer data (including OTHER)\n",
      "76 cities in city list\n"
     ]
    }
   ],
   "source": [
    "print(\"{0} cities in customer data (including OTHER)\".format(customers[\"city\"].nunique()))\n",
    "print(\"{0} cities in city list\".format(len(cities)))"
   ]
  },
  {
   "cell_type": "markdown",
   "id": "f172baff",
   "metadata": {},
   "source": [
    "So some cities are not represented, let's just check which ones"
   ]
  },
  {
   "cell_type": "code",
   "execution_count": 25,
   "id": "2b321406",
   "metadata": {},
   "outputs": [
    {
     "data": {
      "text/plain": [
       "{'KINGSTON-UPON-HULL'}"
      ]
     },
     "execution_count": 25,
     "metadata": {},
     "output_type": "execute_result"
    }
   ],
   "source": [
    "set(cities[\"city\"]) - set(customers[\"city\"])"
   ]
  },
  {
   "cell_type": "markdown",
   "id": "610bbc86",
   "metadata": {},
   "source": [
    "Just Kingston-upon-Hull, which is usually abbreviated to Hull, which is possibly how it appears in our data."
   ]
  },
  {
   "cell_type": "code",
   "execution_count": 26,
   "id": "8fb865b7",
   "metadata": {},
   "outputs": [
    {
     "data": {
      "text/html": [
       "<div>\n",
       "<style scoped>\n",
       "    .dataframe tbody tr th:only-of-type {\n",
       "        vertical-align: middle;\n",
       "    }\n",
       "\n",
       "    .dataframe tbody tr th {\n",
       "        vertical-align: top;\n",
       "    }\n",
       "\n",
       "    .dataframe thead th {\n",
       "        text-align: right;\n",
       "    }\n",
       "</style>\n",
       "<table border=\"1\" class=\"dataframe\">\n",
       "  <thead>\n",
       "    <tr style=\"text-align: right;\">\n",
       "      <th></th>\n",
       "      <th>company_id</th>\n",
       "      <th>address</th>\n",
       "      <th>total_spend</th>\n",
       "      <th>address_clean</th>\n",
       "      <th>address_lines</th>\n",
       "      <th>city</th>\n",
       "    </tr>\n",
       "  </thead>\n",
       "  <tbody>\n",
       "    <tr>\n",
       "      <th>455</th>\n",
       "      <td>456</td>\n",
       "      <td>349 BEVERLEY ROAD,\\nANLABY,\\nHULL,\\nENGLAND,\\n...</td>\n",
       "      <td>3800</td>\n",
       "      <td>349 BEVERLEY ROAD,\\nANLABY,\\nHULL,\\nENGLAND,\\n...</td>\n",
       "      <td>5</td>\n",
       "      <td>OTHER</td>\n",
       "    </tr>\n",
       "    <tr>\n",
       "      <th>1139</th>\n",
       "      <td>1140</td>\n",
       "      <td>90 CALVERT LANE,\\nHULL,\\nENGLAND,\\nHU4 6BJ</td>\n",
       "      <td>6000</td>\n",
       "      <td>90 CALVERT LANE,\\nHULL,\\nENGLAND,\\nHU4 6BJ</td>\n",
       "      <td>4</td>\n",
       "      <td>OTHER</td>\n",
       "    </tr>\n",
       "    <tr>\n",
       "      <th>1822</th>\n",
       "      <td>1823</td>\n",
       "      <td>ACER GLADE BLACK TUP LANE,\\nARNOLD,\\nHULL,\\nEN...</td>\n",
       "      <td>4600</td>\n",
       "      <td>ACER GLADE BLACK TUP LANE,\\nARNOLD,\\nHULL,\\nEN...</td>\n",
       "      <td>5</td>\n",
       "      <td>OTHER</td>\n",
       "    </tr>\n",
       "    <tr>\n",
       "      <th>1831</th>\n",
       "      <td>1832</td>\n",
       "      <td>10 GORDON STREET,\\nHULL,\\nENGLAND,\\nHU3 3HN</td>\n",
       "      <td>5300</td>\n",
       "      <td>10 GORDON STREET,\\nHULL,\\nENGLAND,\\nHU3 3HN</td>\n",
       "      <td>4</td>\n",
       "      <td>OTHER</td>\n",
       "    </tr>\n",
       "    <tr>\n",
       "      <th>1921</th>\n",
       "      <td>1922</td>\n",
       "      <td>70 WRIGHT STREET,\\nHULL,\\nENGLAND,\\nHU2 8JD</td>\n",
       "      <td>6100</td>\n",
       "      <td>70 WRIGHT STREET,\\nHULL,\\nENGLAND,\\nHU2 8JD</td>\n",
       "      <td>4</td>\n",
       "      <td>OTHER</td>\n",
       "    </tr>\n",
       "    <tr>\n",
       "      <th>...</th>\n",
       "      <td>...</td>\n",
       "      <td>...</td>\n",
       "      <td>...</td>\n",
       "      <td>...</td>\n",
       "      <td>...</td>\n",
       "      <td>...</td>\n",
       "    </tr>\n",
       "    <tr>\n",
       "      <th>98479</th>\n",
       "      <td>98480</td>\n",
       "      <td>31-38 QUEEN STREET,\\nHULL,\\nENGLAND,\\nHU1 1UU</td>\n",
       "      <td>4500</td>\n",
       "      <td>31-38 QUEEN STREET,\\nHULL,\\nENGLAND,\\nHU1 1UU</td>\n",
       "      <td>4</td>\n",
       "      <td>OTHER</td>\n",
       "    </tr>\n",
       "    <tr>\n",
       "      <th>98886</th>\n",
       "      <td>98887</td>\n",
       "      <td>13 SALMON GROVE,\\nHULL,\\nEAST YORKSHIRE,\\nENGL...</td>\n",
       "      <td>5000</td>\n",
       "      <td>13 SALMON GROVE,\\nHULL,\\nEAST YORKSHIRE,\\nENGL...</td>\n",
       "      <td>5</td>\n",
       "      <td>OTHER</td>\n",
       "    </tr>\n",
       "    <tr>\n",
       "      <th>99196</th>\n",
       "      <td>99197</td>\n",
       "      <td>22 19TH AVENUE,\\nHULL,\\nENGLAND,\\nHU6 8HF</td>\n",
       "      <td>5900</td>\n",
       "      <td>22 19TH AVENUE,\\nHULL,\\nENGLAND,\\nHU6 8HF</td>\n",
       "      <td>4</td>\n",
       "      <td>OTHER</td>\n",
       "    </tr>\n",
       "    <tr>\n",
       "      <th>99434</th>\n",
       "      <td>99435</td>\n",
       "      <td>F14 THE BLOC SPRINGFIELD WAY,\\nANLABY,\\nHULL,\\...</td>\n",
       "      <td>3100</td>\n",
       "      <td>F14 THE BLOC SPRINGFIELD WAY,\\nANLABY,\\nHULL,\\...</td>\n",
       "      <td>6</td>\n",
       "      <td>OTHER</td>\n",
       "    </tr>\n",
       "    <tr>\n",
       "      <th>99659</th>\n",
       "      <td>99660</td>\n",
       "      <td>273 ANLABY ROAD,\\nHULL,\\nEAST RIDING OF YORKSH...</td>\n",
       "      <td>6400</td>\n",
       "      <td>273 ANLABY ROAD,\\nHULL,\\nEAST RIDING OF YORKSH...</td>\n",
       "      <td>5</td>\n",
       "      <td>OTHER</td>\n",
       "    </tr>\n",
       "  </tbody>\n",
       "</table>\n",
       "<p>284 rows × 6 columns</p>\n",
       "</div>"
      ],
      "text/plain": [
       "       company_id                                            address  \\\n",
       "455           456  349 BEVERLEY ROAD,\\nANLABY,\\nHULL,\\nENGLAND,\\n...   \n",
       "1139         1140         90 CALVERT LANE,\\nHULL,\\nENGLAND,\\nHU4 6BJ   \n",
       "1822         1823  ACER GLADE BLACK TUP LANE,\\nARNOLD,\\nHULL,\\nEN...   \n",
       "1831         1832        10 GORDON STREET,\\nHULL,\\nENGLAND,\\nHU3 3HN   \n",
       "1921         1922        70 WRIGHT STREET,\\nHULL,\\nENGLAND,\\nHU2 8JD   \n",
       "...           ...                                                ...   \n",
       "98479       98480      31-38 QUEEN STREET,\\nHULL,\\nENGLAND,\\nHU1 1UU   \n",
       "98886       98887  13 SALMON GROVE,\\nHULL,\\nEAST YORKSHIRE,\\nENGL...   \n",
       "99196       99197          22 19TH AVENUE,\\nHULL,\\nENGLAND,\\nHU6 8HF   \n",
       "99434       99435  F14 THE BLOC SPRINGFIELD WAY,\\nANLABY,\\nHULL,\\...   \n",
       "99659       99660  273 ANLABY ROAD,\\nHULL,\\nEAST RIDING OF YORKSH...   \n",
       "\n",
       "       total_spend                                      address_clean  \\\n",
       "455           3800  349 BEVERLEY ROAD,\\nANLABY,\\nHULL,\\nENGLAND,\\n...   \n",
       "1139          6000         90 CALVERT LANE,\\nHULL,\\nENGLAND,\\nHU4 6BJ   \n",
       "1822          4600  ACER GLADE BLACK TUP LANE,\\nARNOLD,\\nHULL,\\nEN...   \n",
       "1831          5300        10 GORDON STREET,\\nHULL,\\nENGLAND,\\nHU3 3HN   \n",
       "1921          6100        70 WRIGHT STREET,\\nHULL,\\nENGLAND,\\nHU2 8JD   \n",
       "...            ...                                                ...   \n",
       "98479         4500      31-38 QUEEN STREET,\\nHULL,\\nENGLAND,\\nHU1 1UU   \n",
       "98886         5000  13 SALMON GROVE,\\nHULL,\\nEAST YORKSHIRE,\\nENGL...   \n",
       "99196         5900          22 19TH AVENUE,\\nHULL,\\nENGLAND,\\nHU6 8HF   \n",
       "99434         3100  F14 THE BLOC SPRINGFIELD WAY,\\nANLABY,\\nHULL,\\...   \n",
       "99659         6400  273 ANLABY ROAD,\\nHULL,\\nEAST RIDING OF YORKSH...   \n",
       "\n",
       "       address_lines   city  \n",
       "455                5  OTHER  \n",
       "1139               4  OTHER  \n",
       "1822               5  OTHER  \n",
       "1831               4  OTHER  \n",
       "1921               4  OTHER  \n",
       "...              ...    ...  \n",
       "98479              4  OTHER  \n",
       "98886              5  OTHER  \n",
       "99196              4  OTHER  \n",
       "99434              6  OTHER  \n",
       "99659              5  OTHER  \n",
       "\n",
       "[284 rows x 6 columns]"
      ]
     },
     "execution_count": 26,
     "metadata": {},
     "output_type": "execute_result"
    }
   ],
   "source": [
    "customers[customers[\"address_clean\"].str.contains(\"\\nHULL,\")]"
   ]
  },
  {
   "cell_type": "markdown",
   "id": "c6b10abf",
   "metadata": {},
   "source": [
    "Let's manually fix these"
   ]
  },
  {
   "cell_type": "code",
   "execution_count": 27,
   "id": "10b7e209",
   "metadata": {},
   "outputs": [],
   "source": [
    "customers.loc[customers[\"address_clean\"].str.contains(\"\\nHULL,\"), \"city\"] = \"HULL\""
   ]
  },
  {
   "cell_type": "markdown",
   "id": "d4842b4a",
   "metadata": {},
   "source": [
    "Since there are lots of large towns that aren't technically classed as cities, we can accept the large percentage of \"OTHER\" values for now.\n",
    "\n",
    "Let's calculate our answers to our stakeholder questions."
   ]
  },
  {
   "cell_type": "code",
   "execution_count": 28,
   "id": "7e60e466",
   "metadata": {},
   "outputs": [
    {
     "data": {
      "image/png": "[encoded data removed]",
      "text/plain": [
       "<Figure size 640x480 with 1 Axes>"
      ]
     },
     "metadata": {},
     "output_type": "display_data"
    }
   ],
   "source": [
    "from matplotlib.ticker import FuncFormatter\n",
    "import matplotlib.pyplot as plt\n",
    "\n",
    "# formatting numbers to be in millions rather than whole integers\n",
    "# courtesy of this StackOverflow answer: https://stackoverflow.com/a/61330823/2039162\n",
    "def millions(x, pos):\n",
    "    return '£%1.1fM' % (x * 1e-6)\n",
    "\n",
    "formatter = FuncFormatter(millions)\n",
    "\n",
    "fig, axis = plt.subplots()\n",
    "\n",
    "top_20_spend = (\n",
    "    customers\n",
    "    .groupby(\"city\")\n",
    "    [\"total_spend\"].sum()\n",
    "    .sort_values(ascending=False)\n",
    "    .head(20)\n",
    "    .sort_values(ascending=True)\n",
    ")\n",
    "\n",
    "top_20_spend.plot.barh(ax=axis)\n",
    "\n",
    "axis.xaxis.set_major_formatter(formatter)\n",
    "axis.set(\n",
    "    title=\"Total customer spend by city\",\n",
    "    xlabel=\"Total spend\"\n",
    ")\n",
    "\n",
    "plt.show()"
   ]
  },
  {
   "cell_type": "markdown",
   "id": "0ec56157",
   "metadata": {},
   "source": [
    "Clearly the \"Other\" category takes a large share of the total customer spend, since it makes up over half our customers. A further iteration could focus on separating this category out further into towns  or regions for example.\n",
    "\n",
    "Let's look at London vs. the rest of the country."
   ]
  },
  {
   "cell_type": "code",
   "execution_count": 29,
   "id": "5aa75ef1",
   "metadata": {},
   "outputs": [
    {
     "name": "stdout",
     "output_type": "stream",
     "text": [
      "Total spend for London customers:\n",
      "103042800\n"
     ]
    }
   ],
   "source": [
    "print(\"Total spend for London customers:\")\n",
    "print(customers.loc[customers[\"city\"] == \"LONDON\", \"total_spend\"].sum())"
   ]
  },
  {
   "cell_type": "code",
   "execution_count": 30,
   "id": "bd61839e",
   "metadata": {},
   "outputs": [
    {
     "name": "stdout",
     "output_type": "stream",
     "text": [
      "Total spend outside London:\n",
      "387331300\n",
      "Total spend outside London (excluding OTHER):\n",
      "119468400\n"
     ]
    }
   ],
   "source": [
    "print(\"Total spend outside London:\")\n",
    "print(customers.loc[customers[\"city\"] != \"LONDON\", \"total_spend\"].sum())\n",
    "print(\"Total spend outside London (excluding OTHER):\")\n",
    "print(customers.loc[customers[\"city\"].isin([\"LONDON\", \"OTHER\"]) == False, \"total_spend\"].sum())"
   ]
  },
  {
   "cell_type": "markdown",
   "id": "b09fbeac",
   "metadata": {},
   "source": [
    "If we only compare large cities, London has generated £103m in sales, and all other cities **together** generated £119m. Our customers are definitely London-centric, with Manchester, Birmingham, and Glasgow seeing the largest spending outside of London. Those are the largest cities outside London by population too. Leeds should perhaps be higher based on population, but there is no reason our customer spend patterns should correlate perfectly to population."
   ]
  }
 ],
 "metadata": {
  "kernelspec": {
   "display_name": "Python 3 (ipykernel)",
   "language": "python",
   "name": "python3"
  },
  "language_info": {
   "codemirror_mode": {
    "name": "ipython",
    "version": 3
   },
   "file_extension": ".py",
   "mimetype": "text/x-python",
   "name": "python",
   "nbconvert_exporter": "python",
   "pygments_lexer": "ipython3",
   "version": "3.9.13"
  }
 },
 "nbformat": 4,
 "nbformat_minor": 5
}
