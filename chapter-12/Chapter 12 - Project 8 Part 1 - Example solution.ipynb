{
 "cells": [
  {
   "cell_type": "markdown",
   "id": "772ca23a-900b-4f13-a164-d285e313a1a1",
   "metadata": {},
   "source": [
    "# Solve Any Data Analysis Problem\n",
    "\n",
    "## Chapter 12 - Project 8 Part 1 - example solution\n",
    "\n",
    "Original data from: https://github.com/aliannejadi/LSApp"
   ]
  },
  {
   "cell_type": "markdown",
   "id": "935280c5-3b02-46b3-9f65-b6959ee6d36f",
   "metadata": {},
   "source": [
    "- recreate previous analysis steps\n",
    "- find & drop duplicates\n",
    "- enhance with ChatGPT categorisations\n",
    "- do further analysis"
   ]
  },
  {
   "cell_type": "code",
   "execution_count": 1,
   "id": "04ee72f5-44f5-4256-8852-076cebdd1942",
   "metadata": {},
   "outputs": [],
   "source": [
    "import pandas as pd\n",
    "import matplotlib.pyplot as plt"
   ]
  },
  {
   "cell_type": "markdown",
   "id": "b18672a5-29ae-44fb-85ad-f2f9e9c248a4",
   "metadata": {},
   "source": [
    "Load in the data and try to recreate the original analysis"
   ]
  },
  {
   "cell_type": "code",
   "execution_count": 2,
   "id": "bad34792-c315-4089-a127-65cadaac1f4c",
   "metadata": {},
   "outputs": [
    {
     "name": "stdout",
     "output_type": "stream",
     "text": [
      "(3658590, 5)\n"
     ]
    },
    {
     "data": {
      "text/html": [
       "<div>\n",
       "<style scoped>\n",
       "    .dataframe tbody tr th:only-of-type {\n",
       "        vertical-align: middle;\n",
       "    }\n",
       "\n",
       "    .dataframe tbody tr th {\n",
       "        vertical-align: top;\n",
       "    }\n",
       "\n",
       "    .dataframe thead th {\n",
       "        text-align: right;\n",
       "    }\n",
       "</style>\n",
       "<table border=\"1\" class=\"dataframe\">\n",
       "  <thead>\n",
       "    <tr style=\"text-align: right;\">\n",
       "      <th></th>\n",
       "      <th>user_id</th>\n",
       "      <th>session_id</th>\n",
       "      <th>timestamp</th>\n",
       "      <th>app_name</th>\n",
       "      <th>event_type</th>\n",
       "    </tr>\n",
       "  </thead>\n",
       "  <tbody>\n",
       "    <tr>\n",
       "      <th>0</th>\n",
       "      <td>0.0</td>\n",
       "      <td>1.0</td>\n",
       "      <td>2018-01-16 06:01:05</td>\n",
       "      <td>Minesweeper Classic (Mines)</td>\n",
       "      <td>Opened</td>\n",
       "    </tr>\n",
       "    <tr>\n",
       "      <th>1</th>\n",
       "      <td>0.0</td>\n",
       "      <td>1.0</td>\n",
       "      <td>2018-01-16 06:01:05</td>\n",
       "      <td>Minesweeper Classic (Mines)</td>\n",
       "      <td>Closed</td>\n",
       "    </tr>\n",
       "    <tr>\n",
       "      <th>2</th>\n",
       "      <td>0.0</td>\n",
       "      <td>1.0</td>\n",
       "      <td>2018-01-16 06:01:07</td>\n",
       "      <td>Minesweeper Classic (Mines)</td>\n",
       "      <td>Opened</td>\n",
       "    </tr>\n",
       "    <tr>\n",
       "      <th>3</th>\n",
       "      <td>0.0</td>\n",
       "      <td>1.0</td>\n",
       "      <td>2018-01-16 06:01:07</td>\n",
       "      <td>Minesweeper Classic (Mines)</td>\n",
       "      <td>Closed</td>\n",
       "    </tr>\n",
       "    <tr>\n",
       "      <th>4</th>\n",
       "      <td>0.0</td>\n",
       "      <td>1.0</td>\n",
       "      <td>2018-01-16 06:01:08</td>\n",
       "      <td>Minesweeper Classic (Mines)</td>\n",
       "      <td>Opened</td>\n",
       "    </tr>\n",
       "  </tbody>\n",
       "</table>\n",
       "</div>"
      ],
      "text/plain": [
       "   user_id  session_id           timestamp                     app_name  \\\n",
       "0      0.0         1.0 2018-01-16 06:01:05  Minesweeper Classic (Mines)   \n",
       "1      0.0         1.0 2018-01-16 06:01:05  Minesweeper Classic (Mines)   \n",
       "2      0.0         1.0 2018-01-16 06:01:07  Minesweeper Classic (Mines)   \n",
       "3      0.0         1.0 2018-01-16 06:01:07  Minesweeper Classic (Mines)   \n",
       "4      0.0         1.0 2018-01-16 06:01:08  Minesweeper Classic (Mines)   \n",
       "\n",
       "  event_type  \n",
       "0     Opened  \n",
       "1     Closed  \n",
       "2     Opened  \n",
       "3     Closed  \n",
       "4     Opened  "
      ]
     },
     "execution_count": 2,
     "metadata": {},
     "output_type": "execute_result"
    }
   ],
   "source": [
    "app_data = pd.read_csv(\n",
    "    \"./data/lsapp.tsv.gz\",\n",
    "    sep=\"\\t\",\n",
    "    names=[\"user_id\", \"session_id\", \"timestamp\",\n",
    "           \"app_name\", \"event_type\"],\n",
    "    parse_dates=[\"timestamp\"],\n",
    "    skiprows=1\n",
    ")\n",
    "print(app_data.shape)\n",
    "app_data.head()"
   ]
  },
  {
   "cell_type": "markdown",
   "id": "702aefc2-7e1c-4edd-a961-7ee5cad2b98a",
   "metadata": {},
   "source": [
    "Metrics on first page said:\n",
    "\n",
    "- 292 users\n",
    "- 87 apps\n",
    "- 8 months of events\n",
    "- 3 event types (appendix says \"broken\" events were dropped, as were missing records)\n",
    "\n",
    "Let's review missing data first."
   ]
  },
  {
   "cell_type": "code",
   "execution_count": 3,
   "id": "2b9a661f-2957-4328-8d9f-b13738544a93",
   "metadata": {},
   "outputs": [
    {
     "data": {
      "text/plain": [
       "user_id       1\n",
       "session_id    1\n",
       "timestamp     1\n",
       "app_name      1\n",
       "event_type    1\n",
       "dtype: int64"
      ]
     },
     "execution_count": 3,
     "metadata": {},
     "output_type": "execute_result"
    }
   ],
   "source": [
    "app_data.isnull().sum()"
   ]
  },
  {
   "cell_type": "markdown",
   "id": "b7b81260-eb02-47f7-842a-4e4007f9802a",
   "metadata": {},
   "source": [
    "Let's just drop that one row."
   ]
  },
  {
   "cell_type": "code",
   "execution_count": 4,
   "id": "40d7b8df-85e6-463f-8ee1-d18fa43520c8",
   "metadata": {},
   "outputs": [],
   "source": [
    "app_data = app_data.dropna()"
   ]
  },
  {
   "cell_type": "markdown",
   "id": "b62be382-2a40-4ff6-b71c-065f018e8f8b",
   "metadata": {},
   "source": [
    "Looking at the original data table, user ID and session ID look like decimal numbers but they should be integers. This should just be because `pandas` 1 doesn't have a nullable integer type. Now the missing data has been dropped, let's convert them to integers."
   ]
  },
  {
   "cell_type": "code",
   "execution_count": 5,
   "id": "f5c3b8d0-2ba2-4ac5-872a-8008960bd17b",
   "metadata": {},
   "outputs": [
    {
     "data": {
      "text/plain": [
       "user_id              float64\n",
       "session_id           float64\n",
       "timestamp     datetime64[ns]\n",
       "app_name              object\n",
       "event_type            object\n",
       "dtype: object"
      ]
     },
     "execution_count": 5,
     "metadata": {},
     "output_type": "execute_result"
    }
   ],
   "source": [
    "app_data.dtypes"
   ]
  },
  {
   "cell_type": "markdown",
   "id": "2f452dc7-b44b-47b6-a93b-fa6afadf53ea",
   "metadata": {},
   "source": [
    "user ID and session ID can be integers"
   ]
  },
  {
   "cell_type": "code",
   "execution_count": 6,
   "id": "fb410c28-eb84-43e5-8203-e6c8b56ad5b5",
   "metadata": {},
   "outputs": [
    {
     "data": {
      "text/plain": [
       "user_id                int32\n",
       "session_id             int32\n",
       "timestamp     datetime64[ns]\n",
       "app_name              object\n",
       "event_type            object\n",
       "dtype: object"
      ]
     },
     "execution_count": 6,
     "metadata": {},
     "output_type": "execute_result"
    }
   ],
   "source": [
    "app_data[\"user_id\"] = app_data[\"user_id\"].astype(int)\n",
    "app_data[\"session_id\"] = app_data[\"session_id\"].astype(int)\n",
    "\n",
    "app_data.dtypes"
   ]
  },
  {
   "cell_type": "markdown",
   "id": "70f72ecd-31c7-4cb2-95ae-681610840d58",
   "metadata": {},
   "source": [
    "The slides said \"broken\" events were dropped, so let's investigate that before calculating anything else."
   ]
  },
  {
   "cell_type": "code",
   "execution_count": 7,
   "id": "567760fd-b295-4a41-bd68-865860d3af26",
   "metadata": {},
   "outputs": [
    {
     "data": {
      "text/plain": [
       "Opened              0.457351\n",
       "Closed              0.455644\n",
       "User Interaction    0.085779\n",
       "Broken              0.001226\n",
       "Name: event_type, dtype: float64"
      ]
     },
     "execution_count": 7,
     "metadata": {},
     "output_type": "execute_result"
    }
   ],
   "source": [
    "app_data[\"event_type\"].value_counts(normalize=True)"
   ]
  },
  {
   "cell_type": "markdown",
   "id": "3eeb94d3-d6b8-4c2a-bbb3-3a4b301ac9f3",
   "metadata": {},
   "source": [
    "\"Broken\" events make up 0.1% of our data. Let's see some example apps that had broken events:"
   ]
  },
  {
   "cell_type": "code",
   "execution_count": 8,
   "id": "cff2a908-ca90-4a98-9e0f-7470c2f92180",
   "metadata": {},
   "outputs": [
    {
     "data": {
      "text/plain": [
       "Messages              2213\n",
       "eBay                   398\n",
       "Clock                  292\n",
       "Messaging              257\n",
       "Google Chrome          237\n",
       "Pandora Music          194\n",
       "Phone                  193\n",
       "Facebook Messenger      75\n",
       "Yahoo Mail              71\n",
       "Calendar                60\n",
       "WhatsApp Messenger      59\n",
       "Samsung Email           56\n",
       "Maps                    55\n",
       "Gmail                   54\n",
       "Google Drive            48\n",
       "Facebook                45\n",
       "Google Photos           31\n",
       "Google Play Music       26\n",
       "Robinhood               23\n",
       "Telegram                21\n",
       "Hangouts                18\n",
       "Verizon Messages        16\n",
       "Instagram               11\n",
       "Telegram X               8\n",
       "WeChat                   8\n",
       "Podcast Addict           4\n",
       "Microsoft Outlook        4\n",
       "Discord                  3\n",
       "TextNow                  3\n",
       "Contacts                 2\n",
       "Name: app_name, dtype: int64"
      ]
     },
     "execution_count": 8,
     "metadata": {},
     "output_type": "execute_result"
    }
   ],
   "source": [
    "app_data.loc[app_data[\"event_type\"] == \"Broken\", \"app_name\"].value_counts()"
   ]
  },
  {
   "cell_type": "markdown",
   "id": "40155ad4-ff45-4738-8b72-10ff20df5d92",
   "metadata": {},
   "source": [
    "Not enough context for what that means, so let's agree with the initial analysis and say these aren't relevant for us."
   ]
  },
  {
   "cell_type": "code",
   "execution_count": 9,
   "id": "8a8e082d-2fc6-4707-956b-53c3834a5505",
   "metadata": {},
   "outputs": [],
   "source": [
    "app_data = app_data[app_data[\"event_type\"] != \"Broken\"]"
   ]
  },
  {
   "cell_type": "markdown",
   "id": "433e6527-3c84-4630-acbb-bbf5ca7d71ab",
   "metadata": {},
   "source": [
    "How many users?"
   ]
  },
  {
   "cell_type": "code",
   "execution_count": 10,
   "id": "1fa9aa09-fddc-48d4-a38c-02640bc1491b",
   "metadata": {},
   "outputs": [
    {
     "data": {
      "text/plain": [
       "292"
      ]
     },
     "execution_count": 10,
     "metadata": {},
     "output_type": "execute_result"
    }
   ],
   "source": [
    "app_data[\"user_id\"].nunique()"
   ]
  },
  {
   "cell_type": "markdown",
   "id": "b5edfca6-d728-477f-9b02-64a9ec680e10",
   "metadata": {},
   "source": [
    "How many unique apps?"
   ]
  },
  {
   "cell_type": "code",
   "execution_count": 11,
   "id": "24648abe-719b-4dbf-93cb-4b08701de399",
   "metadata": {},
   "outputs": [
    {
     "data": {
      "text/plain": [
       "87"
      ]
     },
     "execution_count": 11,
     "metadata": {},
     "output_type": "execute_result"
    }
   ],
   "source": [
    "app_data[\"app_name\"].nunique()"
   ]
  },
  {
   "cell_type": "markdown",
   "id": "31124ac1-9dc8-4da2-a044-6ccd52f6de6d",
   "metadata": {},
   "source": [
    "And date range?"
   ]
  },
  {
   "cell_type": "code",
   "execution_count": 12,
   "id": "e55b7bc4-5f41-4982-9581-644e45bfd9e7",
   "metadata": {},
   "outputs": [
    {
     "data": {
      "text/plain": [
       "min   2017-09-09 17:16:06\n",
       "max   2018-05-17 08:42:29\n",
       "Name: timestamp, dtype: datetime64[ns]"
      ]
     },
     "execution_count": 12,
     "metadata": {},
     "output_type": "execute_result"
    }
   ],
   "source": [
    "app_data[\"timestamp\"].agg([\"min\", \"max\"])"
   ]
  },
  {
   "cell_type": "markdown",
   "id": "62808f1c-b5ac-4f75-a30e-b72f5ff5b4a9",
   "metadata": {},
   "source": [
    "Dates in an approx. 8 month range."
   ]
  },
  {
   "attachments": {},
   "cell_type": "markdown",
   "id": "9e2ac392-d82c-495e-9195-0097760ade73",
   "metadata": {},
   "source": [
    "Let's recreate the charts as well.\n",
    "\n",
    "First, the distribution of \"sessions per user\". For this, we need to count the number of sessions per user."
   ]
  },
  {
   "cell_type": "code",
   "execution_count": 13,
   "id": "11d62a13-d83f-4733-b879-a7e8e06b50e1",
   "metadata": {},
   "outputs": [
    {
     "data": {
      "text/plain": [
       "count     292.000000\n",
       "mean      261.113014\n",
       "std       484.984555\n",
       "min         1.000000\n",
       "25%        45.750000\n",
       "50%        95.500000\n",
       "75%       289.000000\n",
       "max      5153.000000\n",
       "Name: session_id, dtype: float64"
      ]
     },
     "execution_count": 13,
     "metadata": {},
     "output_type": "execute_result"
    }
   ],
   "source": [
    "sessions_per_user = (\n",
    "    app_data\n",
    "    .groupby(\"user_id\")\n",
    "    [\"session_id\"]\n",
    "    .nunique()    \n",
    ")\n",
    "\n",
    "sessions_per_user.describe()"
   ]
  },
  {
   "cell_type": "markdown",
   "id": "6a8e2698-1327-40e8-a770-d72dd439a86d",
   "metadata": {},
   "source": [
    "This varies from a user with a single session to a user with over 5000. But what is the full distribution?"
   ]
  },
  {
   "cell_type": "code",
   "execution_count": 14,
   "id": "c6989d7c-91f1-4116-b176-2b381503fd61",
   "metadata": {},
   "outputs": [
    {
     "data": {
      "image/png": "[encoded data removed]",
      "text/plain": [
       "<Figure size 640x480 with 1 Axes>"
      ]
     },
     "metadata": {},
     "output_type": "display_data"
    }
   ],
   "source": [
    "fig, axis = plt.subplots()\n",
    "\n",
    "_ = sessions_per_user.hist(bins=20, ax=axis)\n",
    "\n",
    "_ = axis.set(\n",
    "    title=\"Sessions per user\",\n",
    "    xlabel=\"Number of sessions\",\n",
    "    ylabel=\"Frequency\"\n",
    ")"
   ]
  },
  {
   "cell_type": "markdown",
   "id": "1e3c69f8-b040-4c7a-9c67-c24fdb292be7",
   "metadata": {},
   "source": [
    "Classic situation where most users have few sessions with plenty of outliers. This was illustrated in the slides, as was the distribution limited to ~1000.\n",
    "\n",
    "Let's see: what's the distribution under 1000?"
   ]
  },
  {
   "cell_type": "code",
   "execution_count": 15,
   "id": "51659d1a-2e6a-441a-96de-682d2727b8a4",
   "metadata": {},
   "outputs": [
    {
     "data": {
      "image/png": "[encoded data removed]",
      "text/plain": [
       "<Figure size 640x480 with 1 Axes>"
      ]
     },
     "metadata": {},
     "output_type": "display_data"
    }
   ],
   "source": [
    "fig, axis = plt.subplots()\n",
    "\n",
    "_ = sessions_per_user[sessions_per_user < 1000].hist(bins=20, ax=axis)\n",
    "\n",
    "_ = axis.set(\n",
    "    title=\"Sessions per user\",\n",
    "    xlabel=\"Number of sessions\",\n",
    "    ylabel=\"Frequency\"\n",
    ")"
   ]
  },
  {
   "cell_type": "markdown",
   "id": "bdabf8a0-6ddc-46d2-8116-2b7efeb01624",
   "metadata": {},
   "source": [
    "What about those extreme users?"
   ]
  },
  {
   "cell_type": "code",
   "execution_count": 16,
   "id": "ac7c1f52-6f4c-46cd-a861-d37647bead88",
   "metadata": {},
   "outputs": [
    {
     "data": {
      "text/plain": [
       "user_id\n",
       "138    5153\n",
       "290    3284\n",
       "192    2763\n",
       "31     1885\n",
       "204    1851\n",
       "Name: session_id, dtype: int64"
      ]
     },
     "execution_count": 16,
     "metadata": {},
     "output_type": "execute_result"
    }
   ],
   "source": [
    "sessions_per_user.sort_values(ascending=False).head(5)"
   ]
  },
  {
   "cell_type": "markdown",
   "id": "d85e6f0c-a7a1-45a1-aae8-92708d1040bc",
   "metadata": {},
   "source": [
    "Let's investigate that user who has 5000 sessions."
   ]
  },
  {
   "cell_type": "code",
   "execution_count": 17,
   "id": "a3145006-b139-4e2e-bb81-2ea26e69ba00",
   "metadata": {},
   "outputs": [
    {
     "data": {
      "text/html": [
       "<div>\n",
       "<style scoped>\n",
       "    .dataframe tbody tr th:only-of-type {\n",
       "        vertical-align: middle;\n",
       "    }\n",
       "\n",
       "    .dataframe tbody tr th {\n",
       "        vertical-align: top;\n",
       "    }\n",
       "\n",
       "    .dataframe thead th {\n",
       "        text-align: right;\n",
       "    }\n",
       "</style>\n",
       "<table border=\"1\" class=\"dataframe\">\n",
       "  <thead>\n",
       "    <tr style=\"text-align: right;\">\n",
       "      <th></th>\n",
       "      <th>user_id</th>\n",
       "      <th>session_id</th>\n",
       "      <th>timestamp</th>\n",
       "      <th>app_name</th>\n",
       "      <th>event_type</th>\n",
       "    </tr>\n",
       "  </thead>\n",
       "  <tbody>\n",
       "    <tr>\n",
       "      <th>1782158</th>\n",
       "      <td>138</td>\n",
       "      <td>28802</td>\n",
       "      <td>2018-01-04 05:21:59</td>\n",
       "      <td>Phone</td>\n",
       "      <td>Opened</td>\n",
       "    </tr>\n",
       "    <tr>\n",
       "      <th>1782159</th>\n",
       "      <td>138</td>\n",
       "      <td>28802</td>\n",
       "      <td>2018-01-04 05:21:59</td>\n",
       "      <td>Phone</td>\n",
       "      <td>Closed</td>\n",
       "    </tr>\n",
       "    <tr>\n",
       "      <th>1782160</th>\n",
       "      <td>138</td>\n",
       "      <td>28802</td>\n",
       "      <td>2018-01-04 05:21:59</td>\n",
       "      <td>Phone</td>\n",
       "      <td>Opened</td>\n",
       "    </tr>\n",
       "    <tr>\n",
       "      <th>1782161</th>\n",
       "      <td>138</td>\n",
       "      <td>28802</td>\n",
       "      <td>2018-01-04 05:22:25</td>\n",
       "      <td>Phone</td>\n",
       "      <td>Closed</td>\n",
       "    </tr>\n",
       "    <tr>\n",
       "      <th>1782162</th>\n",
       "      <td>138</td>\n",
       "      <td>28802</td>\n",
       "      <td>2018-01-04 05:22:26</td>\n",
       "      <td>Telegram</td>\n",
       "      <td>User Interaction</td>\n",
       "    </tr>\n",
       "    <tr>\n",
       "      <th>1782163</th>\n",
       "      <td>138</td>\n",
       "      <td>28802</td>\n",
       "      <td>2018-01-04 05:24:54</td>\n",
       "      <td>Telegram</td>\n",
       "      <td>User Interaction</td>\n",
       "    </tr>\n",
       "    <tr>\n",
       "      <th>1782164</th>\n",
       "      <td>138</td>\n",
       "      <td>28802</td>\n",
       "      <td>2018-01-04 05:28:53</td>\n",
       "      <td>Telegram</td>\n",
       "      <td>User Interaction</td>\n",
       "    </tr>\n",
       "    <tr>\n",
       "      <th>1782165</th>\n",
       "      <td>138</td>\n",
       "      <td>28802</td>\n",
       "      <td>2018-01-04 05:29:02</td>\n",
       "      <td>Facebook Messenger</td>\n",
       "      <td>Opened</td>\n",
       "    </tr>\n",
       "    <tr>\n",
       "      <th>1782166</th>\n",
       "      <td>138</td>\n",
       "      <td>28802</td>\n",
       "      <td>2018-01-04 05:30:02</td>\n",
       "      <td>Facebook Messenger</td>\n",
       "      <td>Closed</td>\n",
       "    </tr>\n",
       "    <tr>\n",
       "      <th>1782167</th>\n",
       "      <td>138</td>\n",
       "      <td>28803</td>\n",
       "      <td>2018-01-04 05:35:04</td>\n",
       "      <td>Twitter</td>\n",
       "      <td>User Interaction</td>\n",
       "    </tr>\n",
       "  </tbody>\n",
       "</table>\n",
       "</div>"
      ],
      "text/plain": [
       "         user_id  session_id           timestamp            app_name  \\\n",
       "1782158      138       28802 2018-01-04 05:21:59               Phone   \n",
       "1782159      138       28802 2018-01-04 05:21:59               Phone   \n",
       "1782160      138       28802 2018-01-04 05:21:59               Phone   \n",
       "1782161      138       28802 2018-01-04 05:22:25               Phone   \n",
       "1782162      138       28802 2018-01-04 05:22:26            Telegram   \n",
       "1782163      138       28802 2018-01-04 05:24:54            Telegram   \n",
       "1782164      138       28802 2018-01-04 05:28:53            Telegram   \n",
       "1782165      138       28802 2018-01-04 05:29:02  Facebook Messenger   \n",
       "1782166      138       28802 2018-01-04 05:30:02  Facebook Messenger   \n",
       "1782167      138       28803 2018-01-04 05:35:04             Twitter   \n",
       "\n",
       "               event_type  \n",
       "1782158            Opened  \n",
       "1782159            Closed  \n",
       "1782160            Opened  \n",
       "1782161            Closed  \n",
       "1782162  User Interaction  \n",
       "1782163  User Interaction  \n",
       "1782164  User Interaction  \n",
       "1782165            Opened  \n",
       "1782166            Closed  \n",
       "1782167  User Interaction  "
      ]
     },
     "execution_count": 17,
     "metadata": {},
     "output_type": "execute_result"
    }
   ],
   "source": [
    "app_data[app_data[\"user_id\"] == 138].head(10)"
   ]
  },
  {
   "cell_type": "markdown",
   "id": "a9fbb588-a353-4a18-a89a-d25fc88b96e8",
   "metadata": {},
   "source": [
    "We see some interesting things here:\n",
    "\n",
    "- some apps are opened and closed immediately. Sometimes they're opened again after that. Is that important information?\n",
    "- some apps are opened and closed for a second. Again, is that relevant information to keep?\n",
    "\n",
    "Let's see how big this problem is. How many exact duplicates do we have?"
   ]
  },
  {
   "cell_type": "code",
   "execution_count": 18,
   "id": "1afae99b-0652-48e8-bb42-d3082cdba269",
   "metadata": {},
   "outputs": [
    {
     "data": {
      "text/plain": [
       "3654104"
      ]
     },
     "execution_count": 18,
     "metadata": {},
     "output_type": "execute_result"
    }
   ],
   "source": [
    "len(app_data)"
   ]
  },
  {
   "cell_type": "code",
   "execution_count": 19,
   "id": "0d6407cb-1ca3-4b0b-a8e5-25481e56e962",
   "metadata": {},
   "outputs": [
    {
     "data": {
      "text/plain": [
       "0.5974564489680644"
      ]
     },
     "execution_count": 19,
     "metadata": {},
     "output_type": "execute_result"
    }
   ],
   "source": [
    "app_data.duplicated().sum() / len(app_data)"
   ]
  },
  {
   "cell_type": "markdown",
   "id": "ef57740c-1d2b-4ae0-bb7d-56bbc517fb08",
   "metadata": {},
   "source": [
    "Wow, that's 60% of the data that's an exact duplicate of another row. Same user, same session, same app, same action and same timestamp.\n",
    "\n",
    "Is this a problem? Let's think of what we will want to calculate:\n",
    "\n",
    "- when people use their phones. For this, duplicates will skew the results.\n",
    "- what types of apps people use. If we count distinct app types, duplicates aren't an issue.\n",
    "\n",
    "For at least one of our use cases duplicates are a problem.\n",
    "\n",
    "So can we just drop duplicates? Looking at the first few rows for that user, we might run into a problem where we have two records for someone closing an app and only one for opening it.\n",
    "\n",
    "We could stop looking at the event level and think only of browsing sessions.\n",
    "\n",
    "We're interested in user behavior but not necessarily at the individual app level (e.g. how long each app is used for), so we could drop all \"closed\" events and see where that leaves us."
   ]
  },
  {
   "cell_type": "code",
   "execution_count": 20,
   "id": "c78a94dc-1d88-4237-bd64-de22d6fe6bf3",
   "metadata": {},
   "outputs": [
    {
     "name": "stdout",
     "output_type": "stream",
     "text": [
      "1987090\n",
      "0.543796783014386\n",
      "0.5991560523177109\n"
     ]
    }
   ],
   "source": [
    "closed_dropped = app_data.loc[app_data[\"event_type\"] != \"Closed\", :]\n",
    "\n",
    "print(len(closed_dropped))\n",
    "print(len(closed_dropped) / len(app_data))\n",
    "print(closed_dropped.duplicated().sum() / len(closed_dropped))"
   ]
  },
  {
   "cell_type": "markdown",
   "id": "d8c5863e-61ea-4c07-98fb-73c33aed77b8",
   "metadata": {},
   "source": [
    "Removing \"closed\" events leaves us with just over half our initial data, but it's still 60% exact duplicates.\n",
    "\n",
    "A duplicate now means we have multiple records to show a user opened an app within a session at the exact same time.\n",
    "\n",
    "Let's drop those duplicates entirely as well."
   ]
  },
  {
   "cell_type": "code",
   "execution_count": 21,
   "id": "550378f2-f9b3-464d-a5a8-790020a02165",
   "metadata": {},
   "outputs": [
    {
     "data": {
      "text/plain": [
       "796513"
      ]
     },
     "execution_count": 21,
     "metadata": {},
     "output_type": "execute_result"
    }
   ],
   "source": [
    "app_data_reduced = closed_dropped.drop_duplicates()\n",
    "len(app_data_reduced)"
   ]
  },
  {
   "cell_type": "code",
   "execution_count": 22,
   "id": "acae1f5c-be6b-4398-bee9-36fb968e81a0",
   "metadata": {},
   "outputs": [
    {
     "data": {
      "text/html": [
       "<div>\n",
       "<style scoped>\n",
       "    .dataframe tbody tr th:only-of-type {\n",
       "        vertical-align: middle;\n",
       "    }\n",
       "\n",
       "    .dataframe tbody tr th {\n",
       "        vertical-align: top;\n",
       "    }\n",
       "\n",
       "    .dataframe thead th {\n",
       "        text-align: right;\n",
       "    }\n",
       "</style>\n",
       "<table border=\"1\" class=\"dataframe\">\n",
       "  <thead>\n",
       "    <tr style=\"text-align: right;\">\n",
       "      <th></th>\n",
       "      <th>user_id</th>\n",
       "      <th>session_id</th>\n",
       "      <th>timestamp</th>\n",
       "      <th>app_name</th>\n",
       "      <th>event_type</th>\n",
       "    </tr>\n",
       "  </thead>\n",
       "  <tbody>\n",
       "    <tr>\n",
       "      <th>0</th>\n",
       "      <td>0</td>\n",
       "      <td>1</td>\n",
       "      <td>2018-01-16 06:01:05</td>\n",
       "      <td>Minesweeper Classic (Mines)</td>\n",
       "      <td>Opened</td>\n",
       "    </tr>\n",
       "    <tr>\n",
       "      <th>2</th>\n",
       "      <td>0</td>\n",
       "      <td>1</td>\n",
       "      <td>2018-01-16 06:01:07</td>\n",
       "      <td>Minesweeper Classic (Mines)</td>\n",
       "      <td>Opened</td>\n",
       "    </tr>\n",
       "    <tr>\n",
       "      <th>4</th>\n",
       "      <td>0</td>\n",
       "      <td>1</td>\n",
       "      <td>2018-01-16 06:01:08</td>\n",
       "      <td>Minesweeper Classic (Mines)</td>\n",
       "      <td>Opened</td>\n",
       "    </tr>\n",
       "    <tr>\n",
       "      <th>8</th>\n",
       "      <td>0</td>\n",
       "      <td>1</td>\n",
       "      <td>2018-01-16 06:01:09</td>\n",
       "      <td>Minesweeper Classic (Mines)</td>\n",
       "      <td>Opened</td>\n",
       "    </tr>\n",
       "    <tr>\n",
       "      <th>10</th>\n",
       "      <td>0</td>\n",
       "      <td>1</td>\n",
       "      <td>2018-01-16 06:03:44</td>\n",
       "      <td>Minesweeper Classic (Mines)</td>\n",
       "      <td>Opened</td>\n",
       "    </tr>\n",
       "    <tr>\n",
       "      <th>12</th>\n",
       "      <td>0</td>\n",
       "      <td>1</td>\n",
       "      <td>2018-01-16 06:03:45</td>\n",
       "      <td>Minesweeper Classic (Mines)</td>\n",
       "      <td>Opened</td>\n",
       "    </tr>\n",
       "    <tr>\n",
       "      <th>14</th>\n",
       "      <td>0</td>\n",
       "      <td>1</td>\n",
       "      <td>2018-01-16 06:03:47</td>\n",
       "      <td>Minesweeper Classic (Mines)</td>\n",
       "      <td>Opened</td>\n",
       "    </tr>\n",
       "    <tr>\n",
       "      <th>16</th>\n",
       "      <td>0</td>\n",
       "      <td>1</td>\n",
       "      <td>2018-01-16 06:03:49</td>\n",
       "      <td>Minesweeper Classic (Mines)</td>\n",
       "      <td>Opened</td>\n",
       "    </tr>\n",
       "    <tr>\n",
       "      <th>20</th>\n",
       "      <td>0</td>\n",
       "      <td>1</td>\n",
       "      <td>2018-01-16 06:03:51</td>\n",
       "      <td>Minesweeper Classic (Mines)</td>\n",
       "      <td>Opened</td>\n",
       "    </tr>\n",
       "    <tr>\n",
       "      <th>22</th>\n",
       "      <td>0</td>\n",
       "      <td>1</td>\n",
       "      <td>2018-01-16 06:03:52</td>\n",
       "      <td>Minesweeper Classic (Mines)</td>\n",
       "      <td>Opened</td>\n",
       "    </tr>\n",
       "  </tbody>\n",
       "</table>\n",
       "</div>"
      ],
      "text/plain": [
       "    user_id  session_id           timestamp                     app_name  \\\n",
       "0         0           1 2018-01-16 06:01:05  Minesweeper Classic (Mines)   \n",
       "2         0           1 2018-01-16 06:01:07  Minesweeper Classic (Mines)   \n",
       "4         0           1 2018-01-16 06:01:08  Minesweeper Classic (Mines)   \n",
       "8         0           1 2018-01-16 06:01:09  Minesweeper Classic (Mines)   \n",
       "10        0           1 2018-01-16 06:03:44  Minesweeper Classic (Mines)   \n",
       "12        0           1 2018-01-16 06:03:45  Minesweeper Classic (Mines)   \n",
       "14        0           1 2018-01-16 06:03:47  Minesweeper Classic (Mines)   \n",
       "16        0           1 2018-01-16 06:03:49  Minesweeper Classic (Mines)   \n",
       "20        0           1 2018-01-16 06:03:51  Minesweeper Classic (Mines)   \n",
       "22        0           1 2018-01-16 06:03:52  Minesweeper Classic (Mines)   \n",
       "\n",
       "   event_type  \n",
       "0      Opened  \n",
       "2      Opened  \n",
       "4      Opened  \n",
       "8      Opened  \n",
       "10     Opened  \n",
       "12     Opened  \n",
       "14     Opened  \n",
       "16     Opened  \n",
       "20     Opened  \n",
       "22     Opened  "
      ]
     },
     "execution_count": 22,
     "metadata": {},
     "output_type": "execute_result"
    }
   ],
   "source": [
    "app_data_reduced.head(10)"
   ]
  },
  {
   "cell_type": "markdown",
   "id": "9bf91e25-cf4c-4b95-83f7-42aeacf257a6",
   "metadata": {},
   "source": [
    "We have another level of duplication. In the above example, what does it mean that a user opened Minesweeper every few seconds? Were they constantly changing their mind?\n",
    "\n",
    "There are a couple of ways we could handle this:\n",
    "\n",
    "1. Assume that all events related to an app are actually *one* instance of the user using that app, so if we encounter 20 rows of someone opening Minesweeper within a few minutes and eventually opening another app, that should be **two** records, not 21.\n",
    "2. Look at the time difference between app interactions and clean out anything under a few seconds in length. We don't need specific \"closed\" events for every \"opened\" event, we can just calculate the difference between an \"opened\" event and the next \"opened\" event.\n",
    "\n",
    "Both of these approaches contain assumptions and potential pitfalls.\n",
    "\n",
    "The bigger picture, however, is that we're interested in *sessions*. We can answer both our stakeholders' questions by summarizing our data to the session level and not worrying about these instances of apps being opened and closed immediately.\n",
    "\n",
    "First, let's see if session IDs are unique to users."
   ]
  },
  {
   "cell_type": "code",
   "execution_count": 23,
   "id": "172bd357-fd3b-49e3-86b0-7a827f5c4923",
   "metadata": {},
   "outputs": [
    {
     "data": {
      "text/plain": [
       "Series([], Name: user_id, dtype: int64)"
      ]
     },
     "execution_count": 23,
     "metadata": {},
     "output_type": "execute_result"
    }
   ],
   "source": [
    "(\n",
    "    app_data_reduced\n",
    "    .groupby(\"session_id\")\n",
    "    [\"user_id\"]\n",
    "    .nunique()\n",
    "    .loc[lambda x: x > 1]\n",
    ")"
   ]
  },
  {
   "cell_type": "markdown",
   "id": "1dcb70c2-623b-4821-82be-c3e971502868",
   "metadata": {},
   "source": [
    "Yes, since there are no session IDs that are attributed to multiple users.\n",
    "\n",
    "So it doesn't matter whether we include user ID when grouping by session ID (but we will because it's handy to have):"
   ]
  },
  {
   "cell_type": "code",
   "execution_count": 24,
   "id": "265589b6-925f-40f6-af8a-a15f2b06e52f",
   "metadata": {},
   "outputs": [
    {
     "data": {
      "text/html": [
       "<div>\n",
       "<style scoped>\n",
       "    .dataframe tbody tr th:only-of-type {\n",
       "        vertical-align: middle;\n",
       "    }\n",
       "\n",
       "    .dataframe tbody tr th {\n",
       "        vertical-align: top;\n",
       "    }\n",
       "\n",
       "    .dataframe thead th {\n",
       "        text-align: right;\n",
       "    }\n",
       "</style>\n",
       "<table border=\"1\" class=\"dataframe\">\n",
       "  <thead>\n",
       "    <tr style=\"text-align: right;\">\n",
       "      <th></th>\n",
       "      <th>user_id</th>\n",
       "      <th>session_id</th>\n",
       "      <th>start</th>\n",
       "      <th>end</th>\n",
       "      <th>duration_mins</th>\n",
       "    </tr>\n",
       "  </thead>\n",
       "  <tbody>\n",
       "    <tr>\n",
       "      <th>0</th>\n",
       "      <td>0</td>\n",
       "      <td>1</td>\n",
       "      <td>2018-01-16 06:01:05</td>\n",
       "      <td>2018-01-16 06:04:17</td>\n",
       "      <td>3.200000</td>\n",
       "    </tr>\n",
       "    <tr>\n",
       "      <th>1</th>\n",
       "      <td>0</td>\n",
       "      <td>2</td>\n",
       "      <td>2018-01-16 06:25:54</td>\n",
       "      <td>2018-01-16 06:26:26</td>\n",
       "      <td>0.533333</td>\n",
       "    </tr>\n",
       "    <tr>\n",
       "      <th>2</th>\n",
       "      <td>0</td>\n",
       "      <td>3</td>\n",
       "      <td>2018-01-16 06:35:35</td>\n",
       "      <td>2018-01-16 06:35:35</td>\n",
       "      <td>0.000000</td>\n",
       "    </tr>\n",
       "    <tr>\n",
       "      <th>3</th>\n",
       "      <td>0</td>\n",
       "      <td>4</td>\n",
       "      <td>2018-01-16 07:15:56</td>\n",
       "      <td>2018-01-16 07:21:44</td>\n",
       "      <td>5.800000</td>\n",
       "    </tr>\n",
       "    <tr>\n",
       "      <th>4</th>\n",
       "      <td>0</td>\n",
       "      <td>5</td>\n",
       "      <td>2018-01-16 08:02:05</td>\n",
       "      <td>2018-01-16 08:04:11</td>\n",
       "      <td>2.100000</td>\n",
       "    </tr>\n",
       "  </tbody>\n",
       "</table>\n",
       "</div>"
      ],
      "text/plain": [
       "   user_id  session_id               start                 end  duration_mins\n",
       "0        0           1 2018-01-16 06:01:05 2018-01-16 06:04:17       3.200000\n",
       "1        0           2 2018-01-16 06:25:54 2018-01-16 06:26:26       0.533333\n",
       "2        0           3 2018-01-16 06:35:35 2018-01-16 06:35:35       0.000000\n",
       "3        0           4 2018-01-16 07:15:56 2018-01-16 07:21:44       5.800000\n",
       "4        0           5 2018-01-16 08:02:05 2018-01-16 08:04:11       2.100000"
      ]
     },
     "execution_count": 24,
     "metadata": {},
     "output_type": "execute_result"
    }
   ],
   "source": [
    "sessions = (\n",
    "    app_data_reduced\n",
    "    .groupby([\"user_id\", \"session_id\"])\n",
    "    .agg(start=(\"timestamp\", \"min\"),\n",
    "         end=(\"timestamp\", \"max\"))\n",
    "    .reset_index()\n",
    "    .assign(\n",
    "        duration_mins=lambda _df: (_df[\"end\"] - _df[\"start\"]).dt.seconds/60\n",
    "    )\n",
    ")\n",
    "\n",
    "sessions.head()"
   ]
  },
  {
   "cell_type": "markdown",
   "id": "717f7201-64cb-4f0d-86b5-b743d737c994",
   "metadata": {},
   "source": [
    "We can now look at the distribution of the average session length by user"
   ]
  },
  {
   "cell_type": "code",
   "execution_count": 25,
   "id": "97d9a585-97c3-48b4-942b-0834036c320d",
   "metadata": {},
   "outputs": [
    {
     "data": {
      "image/png": "[encoded data removed]",
      "text/plain": [
       "<Figure size 640x480 with 1 Axes>"
      ]
     },
     "metadata": {},
     "output_type": "display_data"
    }
   ],
   "source": [
    "fig, axis = plt.subplots()\n",
    "\n",
    "avg_session_by_user = (\n",
    "    sessions\n",
    "    .groupby(\"user_id\")\n",
    "    [\"duration_mins\"]\n",
    "    .median()\n",
    ")\n",
    "\n",
    "_ = (\n",
    "    avg_session_by_user\n",
    "    .hist(bins=20, ax=axis)\n",
    ")\n",
    "\n",
    "axis.set(\n",
    "    title=\"Distribution of users' average session length \\\n",
    "(one data point = 1 user)\",\n",
    "    xlabel=\"Session duration (minutes)\",\n",
    "    ylabel=\"Frequency\"\n",
    ")\n",
    "\n",
    "plt.show()"
   ]
  },
  {
   "attachments": {},
   "cell_type": "markdown",
   "id": "cb95c999-e18e-48ab-8d38-2e622665dea3",
   "metadata": {},
   "source": [
    "This chart doesn't look exactly like the one in the slides, but that's because we dropped \"closed\" events. This might have skewed results somewhat because some sessions might end with a \"closed\" event.\n",
    "\n",
    "However, for looking at what time of day people use their phones, we can just look at when sessions started.\n",
    "\n",
    "### When do users use apps?\n",
    "\n",
    "Let's look at this at the session level i.e. the hour in which a session began"
   ]
  },
  {
   "cell_type": "code",
   "execution_count": 26,
   "id": "555a0455-deea-4f62-80cd-e3a885f1dbdf",
   "metadata": {},
   "outputs": [
    {
     "data": {
      "image/png": "[encoded data removed]",
      "text/plain": [
       "<Figure size 640x480 with 1 Axes>"
      ]
     },
     "metadata": {},
     "output_type": "display_data"
    }
   ],
   "source": [
    "sessions[\"hour\"] = sessions[\"start\"].dt.hour\n",
    "\n",
    "fig, axis = plt.subplots()\n",
    "\n",
    "_ = (\n",
    "    sessions[\"hour\"]\n",
    "    .value_counts()\n",
    "    .sort_index()\n",
    "    .plot(kind=\"bar\", ax=axis)\n",
    ")\n",
    "\n",
    "axis.set(\n",
    "    title=\"Distribution of start hour of user browsing sessions\",\n",
    "    xlabel=\"Hour\",\n",
    "    ylabel=\"Frequency\"\n",
    ")\n",
    "\n",
    "plt.show()"
   ]
  },
  {
   "cell_type": "markdown",
   "id": "ee25287a-be71-4b5a-95d4-8064b751fc44",
   "metadata": {},
   "source": [
    "Interestingly, browsing tapers off between 6-10am then increases throughout the day, peaking in the evening.\n",
    "\n",
    "Are there users who prefer to browse more in the morning/evening? We can calculate this by looking at the most common \"starting hour\" for each user and seeing the distribution.\n",
    "\n",
    "It's possible there's a tie, in that case we'll use *both* values."
   ]
  },
  {
   "cell_type": "code",
   "execution_count": 27,
   "id": "21052496-5aaa-47b7-b4b3-3feea489bc54",
   "metadata": {},
   "outputs": [
    {
     "data": {
      "text/html": [
       "<div>\n",
       "<style scoped>\n",
       "    .dataframe tbody tr th:only-of-type {\n",
       "        vertical-align: middle;\n",
       "    }\n",
       "\n",
       "    .dataframe tbody tr th {\n",
       "        vertical-align: top;\n",
       "    }\n",
       "\n",
       "    .dataframe thead th {\n",
       "        text-align: right;\n",
       "    }\n",
       "</style>\n",
       "<table border=\"1\" class=\"dataframe\">\n",
       "  <thead>\n",
       "    <tr style=\"text-align: right;\">\n",
       "      <th></th>\n",
       "      <th>user_id</th>\n",
       "      <th>most_frequent_hour</th>\n",
       "    </tr>\n",
       "  </thead>\n",
       "  <tbody>\n",
       "    <tr>\n",
       "      <th>0</th>\n",
       "      <td>0</td>\n",
       "      <td>16</td>\n",
       "    </tr>\n",
       "    <tr>\n",
       "      <th>1</th>\n",
       "      <td>0</td>\n",
       "      <td>22</td>\n",
       "    </tr>\n",
       "    <tr>\n",
       "      <th>2</th>\n",
       "      <td>1</td>\n",
       "      <td>17</td>\n",
       "    </tr>\n",
       "    <tr>\n",
       "      <th>3</th>\n",
       "      <td>2</td>\n",
       "      <td>6</td>\n",
       "    </tr>\n",
       "    <tr>\n",
       "      <th>4</th>\n",
       "      <td>3</td>\n",
       "      <td>18</td>\n",
       "    </tr>\n",
       "  </tbody>\n",
       "</table>\n",
       "</div>"
      ],
      "text/plain": [
       "   user_id  most_frequent_hour\n",
       "0        0                  16\n",
       "1        0                  22\n",
       "2        1                  17\n",
       "3        2                   6\n",
       "4        3                  18"
      ]
     },
     "execution_count": 27,
     "metadata": {},
     "output_type": "execute_result"
    }
   ],
   "source": [
    "def get_modes(group):\n",
    "    mode_hours = group['hour'].mode()\n",
    "    return pd.DataFrame(\n",
    "        {\n",
    "            'user_id': group['user_id'].iloc[0],\n",
    "            'most_frequent_hour': mode_hours\n",
    "        }\n",
    "    )\n",
    "\n",
    "most_frequent_hours = (\n",
    "    sessions\n",
    "    .groupby(\"user_id\")\n",
    "    .apply(get_modes)\n",
    "    .rename(columns={\"user_id\": \"duplicate_user_id\"})\n",
    "    .reset_index()\n",
    "    .drop(columns=[\"level_1\", \"duplicate_user_id\"])\n",
    ")\n",
    "\n",
    "most_frequent_hours.head()"
   ]
  },
  {
   "cell_type": "markdown",
   "id": "5877f5b3-3876-40d8-8446-9886b04c0358",
   "metadata": {},
   "source": [
    "We can just extract the `most_frequent_hour` here and look at its distribution."
   ]
  },
  {
   "cell_type": "code",
   "execution_count": 28,
   "id": "acb1f34d-b4e1-4e92-a66b-27d6094a7995",
   "metadata": {},
   "outputs": [
    {
     "data": {
      "image/png": "[encoded data removed]",
      "text/plain": [
       "<Figure size 640x480 with 1 Axes>"
      ]
     },
     "metadata": {},
     "output_type": "display_data"
    }
   ],
   "source": [
    "fig, axis = plt.subplots()\n",
    "\n",
    "_ = (\n",
    "    most_frequent_hours\n",
    "    [\"most_frequent_hour\"]\n",
    "    .value_counts()\n",
    "    .sort_index()\n",
    "    .plot\n",
    "    .bar(ax=axis)\n",
    ")\n",
    "\n",
    "axis.set(\n",
    "    title=\"Distribution of most common starting time for users' browsing sessions\",\n",
    "    xlabel=\"Hour\",\n",
    "    ylabel=\"Frequency\"\n",
    ")\n",
    "\n",
    "plt.show()"
   ]
  },
  {
   "cell_type": "markdown",
   "id": "18bde3a2-97c5-4f0b-8fb0-36fbb3a5cef3",
   "metadata": {},
   "source": [
    "This is useful! We have people whose most common browsing time is the middle of the night, there's a small peak in the early hours, another around lunchtime, and another in the early evening.\n",
    "\n",
    "We can use this to categorize people into 4 groups:\n",
    "\n",
    "- night owl (most common hour is 21-23 or 0-3 inclusive)\n",
    "- early morning browser (most common hour is 4-9 inclusive)\n",
    "- midday browser (most common hour is 10-14 inclusive)\n",
    "- late day browser (most common hour is 15-20 inclusive)\n",
    "\n",
    "Only problem is users who have an equal number of sessions in two of these categories. To get around that, we can use dummy/indicator variables and just have multiple 1s for users with multiple group membership.\n",
    "\n",
    "We'll use this `most_frequent_hours` object to find which users should belong in which group."
   ]
  },
  {
   "cell_type": "code",
   "execution_count": 29,
   "id": "af228073-94bf-490c-8e2e-8a33cd052a42",
   "metadata": {},
   "outputs": [
    {
     "data": {
      "text/html": [
       "<div>\n",
       "<style scoped>\n",
       "    .dataframe tbody tr th:only-of-type {\n",
       "        vertical-align: middle;\n",
       "    }\n",
       "\n",
       "    .dataframe tbody tr th {\n",
       "        vertical-align: top;\n",
       "    }\n",
       "\n",
       "    .dataframe thead th {\n",
       "        text-align: right;\n",
       "    }\n",
       "</style>\n",
       "<table border=\"1\" class=\"dataframe\">\n",
       "  <thead>\n",
       "    <tr style=\"text-align: right;\">\n",
       "      <th></th>\n",
       "      <th>user_id</th>\n",
       "      <th>most_frequent_hour</th>\n",
       "      <th>category</th>\n",
       "    </tr>\n",
       "  </thead>\n",
       "  <tbody>\n",
       "    <tr>\n",
       "      <th>0</th>\n",
       "      <td>0</td>\n",
       "      <td>16</td>\n",
       "      <td>late_day_browser</td>\n",
       "    </tr>\n",
       "    <tr>\n",
       "      <th>1</th>\n",
       "      <td>0</td>\n",
       "      <td>22</td>\n",
       "      <td>night_owl</td>\n",
       "    </tr>\n",
       "    <tr>\n",
       "      <th>2</th>\n",
       "      <td>1</td>\n",
       "      <td>17</td>\n",
       "      <td>late_day_browser</td>\n",
       "    </tr>\n",
       "    <tr>\n",
       "      <th>3</th>\n",
       "      <td>2</td>\n",
       "      <td>6</td>\n",
       "      <td>early_morning_browser</td>\n",
       "    </tr>\n",
       "    <tr>\n",
       "      <th>4</th>\n",
       "      <td>3</td>\n",
       "      <td>18</td>\n",
       "      <td>late_day_browser</td>\n",
       "    </tr>\n",
       "  </tbody>\n",
       "</table>\n",
       "</div>"
      ],
      "text/plain": [
       "   user_id  most_frequent_hour               category\n",
       "0        0                  16       late_day_browser\n",
       "1        0                  22              night_owl\n",
       "2        1                  17       late_day_browser\n",
       "3        2                   6  early_morning_browser\n",
       "4        3                  18       late_day_browser"
      ]
     },
     "execution_count": 29,
     "metadata": {},
     "output_type": "execute_result"
    }
   ],
   "source": [
    "bins = [-1, 3, 9, 14, 20]\n",
    "labels = ['night_owl', 'early_morning_browser',\n",
    "          'midday_browser', 'late_day_browser']\n",
    "\n",
    "most_frequent_hours[\"category\"] = (\n",
    "    pd.cut(\n",
    "        most_frequent_hours[\"most_frequent_hour\"],\n",
    "        bins=bins,\n",
    "        labels=labels,\n",
    "        ordered=True\n",
    "    )\n",
    ")\n",
    "\n",
    "# fix additional night owl values\n",
    "most_frequent_hours.loc[most_frequent_hours[\"most_frequent_hour\"].isin([21, 22, 23]), \"category\"] = \"night_owl\"\n",
    "\n",
    "most_frequent_hours.head()"
   ]
  },
  {
   "cell_type": "code",
   "execution_count": 30,
   "id": "86a8adf1-dc57-42de-9842-81af30b622cb",
   "metadata": {},
   "outputs": [
    {
     "data": {
      "text/plain": [
       "night_owl                154\n",
       "early_morning_browser     48\n",
       "midday_browser            66\n",
       "late_day_browser         161\n",
       "Name: category, dtype: int64"
      ]
     },
     "execution_count": 30,
     "metadata": {},
     "output_type": "execute_result"
    }
   ],
   "source": [
    "(\n",
    "    most_frequent_hours[\"category\"]\n",
    "    .value_counts()\n",
    "    .sort_index()\n",
    ")"
   ]
  },
  {
   "attachments": {},
   "cell_type": "markdown",
   "id": "ef612853-6c9a-46aa-a87a-49068d361e52",
   "metadata": {},
   "source": [
    "This is the time to start building a user-level dataset anyway, since that's what we'll need to segment our users. This way, we can have users be in multiple categories."
   ]
  },
  {
   "cell_type": "code",
   "execution_count": 31,
   "id": "6ac64563-b643-4c2f-9cc0-dd71c3f84c1c",
   "metadata": {},
   "outputs": [
    {
     "data": {
      "text/html": [
       "<div>\n",
       "<style scoped>\n",
       "    .dataframe tbody tr th:only-of-type {\n",
       "        vertical-align: middle;\n",
       "    }\n",
       "\n",
       "    .dataframe tbody tr th {\n",
       "        vertical-align: top;\n",
       "    }\n",
       "\n",
       "    .dataframe thead th {\n",
       "        text-align: right;\n",
       "    }\n",
       "</style>\n",
       "<table border=\"1\" class=\"dataframe\">\n",
       "  <thead>\n",
       "    <tr style=\"text-align: right;\">\n",
       "      <th></th>\n",
       "      <th>user_id</th>\n",
       "      <th>time_night_owl</th>\n",
       "      <th>time_early_morning_browser</th>\n",
       "      <th>time_midday_browser</th>\n",
       "      <th>time_late_day_browser</th>\n",
       "    </tr>\n",
       "  </thead>\n",
       "  <tbody>\n",
       "    <tr>\n",
       "      <th>0</th>\n",
       "      <td>0</td>\n",
       "      <td>1</td>\n",
       "      <td>0</td>\n",
       "      <td>0</td>\n",
       "      <td>1</td>\n",
       "    </tr>\n",
       "    <tr>\n",
       "      <th>1</th>\n",
       "      <td>1</td>\n",
       "      <td>0</td>\n",
       "      <td>0</td>\n",
       "      <td>0</td>\n",
       "      <td>1</td>\n",
       "    </tr>\n",
       "    <tr>\n",
       "      <th>2</th>\n",
       "      <td>2</td>\n",
       "      <td>0</td>\n",
       "      <td>1</td>\n",
       "      <td>0</td>\n",
       "      <td>0</td>\n",
       "    </tr>\n",
       "    <tr>\n",
       "      <th>3</th>\n",
       "      <td>3</td>\n",
       "      <td>0</td>\n",
       "      <td>0</td>\n",
       "      <td>0</td>\n",
       "      <td>1</td>\n",
       "    </tr>\n",
       "    <tr>\n",
       "      <th>4</th>\n",
       "      <td>4</td>\n",
       "      <td>1</td>\n",
       "      <td>0</td>\n",
       "      <td>0</td>\n",
       "      <td>0</td>\n",
       "    </tr>\n",
       "  </tbody>\n",
       "</table>\n",
       "</div>"
      ],
      "text/plain": [
       "   user_id  time_night_owl  time_early_morning_browser  time_midday_browser  \\\n",
       "0        0               1                           0                    0   \n",
       "1        1               0                           0                    0   \n",
       "2        2               0                           1                    0   \n",
       "3        3               0                           0                    0   \n",
       "4        4               1                           0                    0   \n",
       "\n",
       "   time_late_day_browser  \n",
       "0                      1  \n",
       "1                      1  \n",
       "2                      0  \n",
       "3                      1  \n",
       "4                      0  "
      ]
     },
     "execution_count": 31,
     "metadata": {},
     "output_type": "execute_result"
    }
   ],
   "source": [
    "users = (\n",
    "    pd.get_dummies(\n",
    "        most_frequent_hours.drop(columns=[\"most_frequent_hour\"]),\n",
    "        columns=[\"category\"],\n",
    "        prefix=\"time\"\n",
    "    )\n",
    "    .groupby(\"user_id\")\n",
    "    .max()\n",
    "    .reset_index()\n",
    ")\n",
    "\n",
    "users.head()"
   ]
  },
  {
   "cell_type": "markdown",
   "id": "6df534a4-24ea-4f72-8c96-d52bd3b97410",
   "metadata": {},
   "source": [
    "### What apps do people use?\n",
    "\n",
    "We have the app name, but not the categorization. With a little help from ChatGPT we can categorize the apps. First, let's print the app names so it's easier to paste into ChatGPT."
   ]
  },
  {
   "cell_type": "code",
   "execution_count": 32,
   "id": "9669342f-43db-4b76-a3c4-a08588751f6f",
   "metadata": {},
   "outputs": [
    {
     "name": "stdout",
     "output_type": "stream",
     "text": [
      "(87, 2)\n"
     ]
    },
    {
     "data": {
      "text/html": [
       "<div>\n",
       "<style scoped>\n",
       "    .dataframe tbody tr th:only-of-type {\n",
       "        vertical-align: middle;\n",
       "    }\n",
       "\n",
       "    .dataframe tbody tr th {\n",
       "        vertical-align: top;\n",
       "    }\n",
       "\n",
       "    .dataframe thead th {\n",
       "        text-align: right;\n",
       "    }\n",
       "</style>\n",
       "<table border=\"1\" class=\"dataframe\">\n",
       "  <thead>\n",
       "    <tr style=\"text-align: right;\">\n",
       "      <th></th>\n",
       "      <th>app_name</th>\n",
       "      <th>app_category</th>\n",
       "    </tr>\n",
       "  </thead>\n",
       "  <tbody>\n",
       "    <tr>\n",
       "      <th>0</th>\n",
       "      <td>Minesweeper Classic (Mines)</td>\n",
       "      <td>Mobile Games</td>\n",
       "    </tr>\n",
       "    <tr>\n",
       "      <th>1</th>\n",
       "      <td>Gmail</td>\n",
       "      <td>Email</td>\n",
       "    </tr>\n",
       "    <tr>\n",
       "      <th>2</th>\n",
       "      <td>Google</td>\n",
       "      <td>Web Browser/Search Engine</td>\n",
       "    </tr>\n",
       "    <tr>\n",
       "      <th>3</th>\n",
       "      <td>Instagram</td>\n",
       "      <td>Social Media</td>\n",
       "    </tr>\n",
       "    <tr>\n",
       "      <th>4</th>\n",
       "      <td>Google Chrome</td>\n",
       "      <td>Web Browser</td>\n",
       "    </tr>\n",
       "  </tbody>\n",
       "</table>\n",
       "</div>"
      ],
      "text/plain": [
       "                      app_name               app_category\n",
       "0  Minesweeper Classic (Mines)               Mobile Games\n",
       "1                        Gmail                      Email\n",
       "2                       Google  Web Browser/Search Engine\n",
       "3                    Instagram               Social Media\n",
       "4                Google Chrome                Web Browser"
      ]
     },
     "execution_count": 32,
     "metadata": {},
     "output_type": "execute_result"
    }
   ],
   "source": [
    "categories = pd.read_csv(\"./data/App_Categories.csv\",\n",
    "                         skiprows=1,\n",
    "                         names=[\"app_name\", \"app_category\"])\n",
    "print(categories.shape)\n",
    "categories.head()"
   ]
  },
  {
   "cell_type": "code",
   "execution_count": 33,
   "id": "6181ba67-f1b1-4bf0-97f2-0a85fdf5e410",
   "metadata": {},
   "outputs": [
    {
     "data": {
      "text/plain": [
       "Messaging                    12\n",
       "Utility                       9\n",
       "Social Media                  8\n",
       "Mobile Games                  5\n",
       "Unknown                       5\n",
       "Advertising                   5\n",
       "Email                         5\n",
       "Finance                       5\n",
       "Video Streaming               4\n",
       "Online Shopping               4\n",
       "Music Streaming               3\n",
       "Web Browser                   3\n",
       "Communication                 3\n",
       "Photo Management              3\n",
       "Photo Editing                 2\n",
       "Web Browser/Search Engine     2\n",
       "Cloud Storage                 1\n",
       "Social Media/Messaging        1\n",
       "Productivity                  1\n",
       "Note Taking                   1\n",
       "News                          1\n",
       "Navigation                    1\n",
       "Health                        1\n",
       "Podcasts                      1\n",
       "App Marketplace               1\n",
       "Name: app_category, dtype: int64"
      ]
     },
     "execution_count": 33,
     "metadata": {},
     "output_type": "execute_result"
    }
   ],
   "source": [
    "categories[\"app_category\"].value_counts()"
   ]
  },
  {
   "cell_type": "markdown",
   "id": "4a8170ad-34ec-4f64-ba04-95f07a0e84fc",
   "metadata": {},
   "source": [
    "There are some \"Unknown\" values in there"
   ]
  },
  {
   "cell_type": "code",
   "execution_count": 34,
   "id": "99f4898c-278a-4686-a52d-dd6720e86778",
   "metadata": {},
   "outputs": [
    {
     "data": {
      "text/html": [
       "<div>\n",
       "<style scoped>\n",
       "    .dataframe tbody tr th:only-of-type {\n",
       "        vertical-align: middle;\n",
       "    }\n",
       "\n",
       "    .dataframe tbody tr th {\n",
       "        vertical-align: top;\n",
       "    }\n",
       "\n",
       "    .dataframe thead th {\n",
       "        text-align: right;\n",
       "    }\n",
       "</style>\n",
       "<table border=\"1\" class=\"dataframe\">\n",
       "  <thead>\n",
       "    <tr style=\"text-align: right;\">\n",
       "      <th></th>\n",
       "      <th>app_name</th>\n",
       "      <th>app_category</th>\n",
       "    </tr>\n",
       "  </thead>\n",
       "  <tbody>\n",
       "    <tr>\n",
       "      <th>45</th>\n",
       "      <td>MUIQ Survey App</td>\n",
       "      <td>Unknown</td>\n",
       "    </tr>\n",
       "    <tr>\n",
       "      <th>54</th>\n",
       "      <td>Reward Stash</td>\n",
       "      <td>Unknown</td>\n",
       "    </tr>\n",
       "    <tr>\n",
       "      <th>68</th>\n",
       "      <td>Movie Play Box</td>\n",
       "      <td>Unknown</td>\n",
       "    </tr>\n",
       "    <tr>\n",
       "      <th>70</th>\n",
       "      <td>SurveyCow</td>\n",
       "      <td>Unknown</td>\n",
       "    </tr>\n",
       "    <tr>\n",
       "      <th>76</th>\n",
       "      <td>MetroZone</td>\n",
       "      <td>Unknown</td>\n",
       "    </tr>\n",
       "  </tbody>\n",
       "</table>\n",
       "</div>"
      ],
      "text/plain": [
       "           app_name app_category\n",
       "45  MUIQ Survey App      Unknown\n",
       "54     Reward Stash      Unknown\n",
       "68   Movie Play Box      Unknown\n",
       "70        SurveyCow      Unknown\n",
       "76        MetroZone      Unknown"
      ]
     },
     "execution_count": 34,
     "metadata": {},
     "output_type": "execute_result"
    }
   ],
   "source": [
    "categories[categories[\"app_category\"] == \"Unknown\"]"
   ]
  },
  {
   "cell_type": "code",
   "execution_count": 35,
   "id": "9038d7da-8bc3-4aed-85c1-c344cc3867b2",
   "metadata": {},
   "outputs": [],
   "source": [
    "categories.loc[categories[\"app_name\"]==\"MUIQ Survey App\", \"app_category\"] = \"Survey\"\n",
    "categories.loc[categories[\"app_name\"]==\"SurveyCow\", \"app_category\"] = \"Survey\"\n",
    "categories.loc[categories[\"app_name\"]==\"Reward Stash\", \"app_category\"] = \"Rewards\"\n",
    "categories.loc[categories[\"app_name\"]==\"Movie Play Box\", \"app_category\"] = \"Video Streaming\"\n",
    "categories.loc[categories[\"app_name\"]==\"MetroZone\", \"app_category\"] = \"Utility\""
   ]
  },
  {
   "cell_type": "markdown",
   "id": "06d56e7b-78a6-4504-aea5-b6ea1ce57b63",
   "metadata": {},
   "source": [
    "Too many categories. Let's combine them."
   ]
  },
  {
   "cell_type": "code",
   "execution_count": 36,
   "id": "f7ee9554-5092-4cb7-af0f-485d4159a47f",
   "metadata": {},
   "outputs": [
    {
     "name": "stdout",
     "output_type": "stream",
     "text": [
      "'Advertising': '',\n",
      "'App Marketplace': '',\n",
      "'Cloud Storage': '',\n",
      "'Communication': '',\n",
      "'Email': '',\n",
      "'Finance': '',\n",
      "'Health': '',\n",
      "'Messaging': '',\n",
      "'Mobile Games': '',\n",
      "'Music Streaming': '',\n",
      "'Navigation': '',\n",
      "'News': '',\n",
      "'Note Taking': '',\n",
      "'Online Shopping': '',\n",
      "'Photo Editing': '',\n",
      "'Photo Management': '',\n",
      "'Podcasts': '',\n",
      "'Productivity': '',\n",
      "'Rewards': '',\n",
      "'Social Media': '',\n",
      "'Social Media/Messaging': '',\n",
      "'Survey': '',\n",
      "'Utility': '',\n",
      "'Video Streaming': '',\n",
      "'Web Browser': '',\n",
      "'Web Browser/Search Engine': '',\n"
     ]
    }
   ],
   "source": [
    "for category in sorted(categories[\"app_category\"].unique()):\n",
    "    print(f\"'{category}': '',\")"
   ]
  },
  {
   "cell_type": "code",
   "execution_count": 37,
   "id": "71e54f0f-9c56-43f5-91be-0943ee249fa0",
   "metadata": {},
   "outputs": [
    {
     "data": {
      "text/html": [
       "<div>\n",
       "<style scoped>\n",
       "    .dataframe tbody tr th:only-of-type {\n",
       "        vertical-align: middle;\n",
       "    }\n",
       "\n",
       "    .dataframe tbody tr th {\n",
       "        vertical-align: top;\n",
       "    }\n",
       "\n",
       "    .dataframe thead th {\n",
       "        text-align: right;\n",
       "    }\n",
       "</style>\n",
       "<table border=\"1\" class=\"dataframe\">\n",
       "  <thead>\n",
       "    <tr style=\"text-align: right;\">\n",
       "      <th></th>\n",
       "      <th>app_name</th>\n",
       "      <th>app_subcategory</th>\n",
       "      <th>app_category</th>\n",
       "    </tr>\n",
       "  </thead>\n",
       "  <tbody>\n",
       "    <tr>\n",
       "      <th>0</th>\n",
       "      <td>Minesweeper Classic (Mines)</td>\n",
       "      <td>Mobile Games</td>\n",
       "      <td>Entertainment</td>\n",
       "    </tr>\n",
       "    <tr>\n",
       "      <th>1</th>\n",
       "      <td>Gmail</td>\n",
       "      <td>Email</td>\n",
       "      <td>Social</td>\n",
       "    </tr>\n",
       "    <tr>\n",
       "      <th>2</th>\n",
       "      <td>Google</td>\n",
       "      <td>Web Browser/Search Engine</td>\n",
       "      <td>Browsing</td>\n",
       "    </tr>\n",
       "    <tr>\n",
       "      <th>3</th>\n",
       "      <td>Instagram</td>\n",
       "      <td>Social Media</td>\n",
       "      <td>Social</td>\n",
       "    </tr>\n",
       "    <tr>\n",
       "      <th>4</th>\n",
       "      <td>Google Chrome</td>\n",
       "      <td>Web Browser</td>\n",
       "      <td>Browsing</td>\n",
       "    </tr>\n",
       "  </tbody>\n",
       "</table>\n",
       "</div>"
      ],
      "text/plain": [
       "                      app_name            app_subcategory   app_category\n",
       "0  Minesweeper Classic (Mines)               Mobile Games  Entertainment\n",
       "1                        Gmail                      Email         Social\n",
       "2                       Google  Web Browser/Search Engine       Browsing\n",
       "3                    Instagram               Social Media         Social\n",
       "4                Google Chrome                Web Browser       Browsing"
      ]
     },
     "execution_count": 37,
     "metadata": {},
     "output_type": "execute_result"
    }
   ],
   "source": [
    "categories = categories.rename(columns={\"app_category\": \"app_subcategory\"})\n",
    "\n",
    "category_map = {\n",
    "    'Advertising': 'Money',\n",
    "    'App Marketplace': 'Entertainment',\n",
    "    'Cloud Storage': 'Utility',\n",
    "    'Communication': 'Social',\n",
    "    'Email': 'Social',\n",
    "    'Finance': 'Money',\n",
    "    'Health': 'Social',\n",
    "    'Messaging': 'Social',\n",
    "    'Mobile Games': 'Entertainment',\n",
    "    'Music Streaming': 'Entertainment',\n",
    "    'Navigation': 'Utility',\n",
    "    'News': 'Social',\n",
    "    'Note Taking': 'Utility',\n",
    "    'Online Shopping': 'Money',\n",
    "    'Photo Editing': 'Utility',\n",
    "    'Photo Management': 'Utility',\n",
    "    'Podcasts': 'Entertainment',\n",
    "    'Productivity': 'Utility',\n",
    "    'Rewards': 'Money',\n",
    "    'Social Media': 'Social',\n",
    "    'Social Media/Messaging': 'Social',\n",
    "    'Survey': 'Money',\n",
    "    'Utility': 'Utility',\n",
    "    'Video Streaming': 'Entertainment',\n",
    "    'Web Browser': 'Browsing',\n",
    "    'Web Browser/Search Engine': 'Browsing'\n",
    "}\n",
    "\n",
    "categories[\"app_category\"] = categories[\"app_subcategory\"].map(category_map)\n",
    "categories.head()"
   ]
  },
  {
   "cell_type": "markdown",
   "id": "811ad54f-80fd-4dab-b332-5f52f3a13c43",
   "metadata": {},
   "source": [
    "Now we can merge this to the main dataset and find people's most common app usage type (e.g. Social)"
   ]
  },
  {
   "cell_type": "code",
   "execution_count": 38,
   "id": "7ead5001-c490-4fc3-a6a3-e0ee0aaecb62",
   "metadata": {},
   "outputs": [
    {
     "data": {
      "text/html": [
       "<div>\n",
       "<style scoped>\n",
       "    .dataframe tbody tr th:only-of-type {\n",
       "        vertical-align: middle;\n",
       "    }\n",
       "\n",
       "    .dataframe tbody tr th {\n",
       "        vertical-align: top;\n",
       "    }\n",
       "\n",
       "    .dataframe thead th {\n",
       "        text-align: right;\n",
       "    }\n",
       "</style>\n",
       "<table border=\"1\" class=\"dataframe\">\n",
       "  <thead>\n",
       "    <tr style=\"text-align: right;\">\n",
       "      <th></th>\n",
       "      <th>user_id</th>\n",
       "      <th>session_id</th>\n",
       "      <th>timestamp</th>\n",
       "      <th>app_name</th>\n",
       "      <th>event_type</th>\n",
       "      <th>app_subcategory</th>\n",
       "      <th>app_category</th>\n",
       "    </tr>\n",
       "  </thead>\n",
       "  <tbody>\n",
       "    <tr>\n",
       "      <th>0</th>\n",
       "      <td>0</td>\n",
       "      <td>1</td>\n",
       "      <td>2018-01-16 06:01:05</td>\n",
       "      <td>Minesweeper Classic (Mines)</td>\n",
       "      <td>Opened</td>\n",
       "      <td>Mobile Games</td>\n",
       "      <td>Entertainment</td>\n",
       "    </tr>\n",
       "    <tr>\n",
       "      <th>1</th>\n",
       "      <td>0</td>\n",
       "      <td>1</td>\n",
       "      <td>2018-01-16 06:01:07</td>\n",
       "      <td>Minesweeper Classic (Mines)</td>\n",
       "      <td>Opened</td>\n",
       "      <td>Mobile Games</td>\n",
       "      <td>Entertainment</td>\n",
       "    </tr>\n",
       "    <tr>\n",
       "      <th>2</th>\n",
       "      <td>0</td>\n",
       "      <td>1</td>\n",
       "      <td>2018-01-16 06:01:08</td>\n",
       "      <td>Minesweeper Classic (Mines)</td>\n",
       "      <td>Opened</td>\n",
       "      <td>Mobile Games</td>\n",
       "      <td>Entertainment</td>\n",
       "    </tr>\n",
       "    <tr>\n",
       "      <th>3</th>\n",
       "      <td>0</td>\n",
       "      <td>1</td>\n",
       "      <td>2018-01-16 06:01:09</td>\n",
       "      <td>Minesweeper Classic (Mines)</td>\n",
       "      <td>Opened</td>\n",
       "      <td>Mobile Games</td>\n",
       "      <td>Entertainment</td>\n",
       "    </tr>\n",
       "    <tr>\n",
       "      <th>4</th>\n",
       "      <td>0</td>\n",
       "      <td>1</td>\n",
       "      <td>2018-01-16 06:03:44</td>\n",
       "      <td>Minesweeper Classic (Mines)</td>\n",
       "      <td>Opened</td>\n",
       "      <td>Mobile Games</td>\n",
       "      <td>Entertainment</td>\n",
       "    </tr>\n",
       "  </tbody>\n",
       "</table>\n",
       "</div>"
      ],
      "text/plain": [
       "   user_id  session_id           timestamp                     app_name  \\\n",
       "0        0           1 2018-01-16 06:01:05  Minesweeper Classic (Mines)   \n",
       "1        0           1 2018-01-16 06:01:07  Minesweeper Classic (Mines)   \n",
       "2        0           1 2018-01-16 06:01:08  Minesweeper Classic (Mines)   \n",
       "3        0           1 2018-01-16 06:01:09  Minesweeper Classic (Mines)   \n",
       "4        0           1 2018-01-16 06:03:44  Minesweeper Classic (Mines)   \n",
       "\n",
       "  event_type app_subcategory   app_category  \n",
       "0     Opened    Mobile Games  Entertainment  \n",
       "1     Opened    Mobile Games  Entertainment  \n",
       "2     Opened    Mobile Games  Entertainment  \n",
       "3     Opened    Mobile Games  Entertainment  \n",
       "4     Opened    Mobile Games  Entertainment  "
      ]
     },
     "execution_count": 38,
     "metadata": {},
     "output_type": "execute_result"
    }
   ],
   "source": [
    "app_data_merged = app_data_reduced.merge(\n",
    "    categories,\n",
    "    on=\"app_name\")\n",
    "assert len(app_data_reduced) ==  len(app_data_merged)\n",
    "app_data_merged.head()"
   ]
  },
  {
   "cell_type": "markdown",
   "id": "4f720d42-64d2-4bcb-af66-bd052f0db9c5",
   "metadata": {},
   "source": [
    "Find each user's most common category"
   ]
  },
  {
   "cell_type": "code",
   "execution_count": 39,
   "id": "8c44ee69-f8a6-4137-a96c-00e5f36effaf",
   "metadata": {},
   "outputs": [
    {
     "data": {
      "text/html": [
       "<div>\n",
       "<style scoped>\n",
       "    .dataframe tbody tr th:only-of-type {\n",
       "        vertical-align: middle;\n",
       "    }\n",
       "\n",
       "    .dataframe tbody tr th {\n",
       "        vertical-align: top;\n",
       "    }\n",
       "\n",
       "    .dataframe thead th {\n",
       "        text-align: right;\n",
       "    }\n",
       "</style>\n",
       "<table border=\"1\" class=\"dataframe\">\n",
       "  <thead>\n",
       "    <tr style=\"text-align: right;\">\n",
       "      <th></th>\n",
       "      <th>user_id</th>\n",
       "      <th>level_1</th>\n",
       "      <th>app_category</th>\n",
       "    </tr>\n",
       "  </thead>\n",
       "  <tbody>\n",
       "    <tr>\n",
       "      <th>0</th>\n",
       "      <td>0</td>\n",
       "      <td>0</td>\n",
       "      <td>Entertainment</td>\n",
       "    </tr>\n",
       "    <tr>\n",
       "      <th>1</th>\n",
       "      <td>1</td>\n",
       "      <td>0</td>\n",
       "      <td>Social</td>\n",
       "    </tr>\n",
       "    <tr>\n",
       "      <th>2</th>\n",
       "      <td>2</td>\n",
       "      <td>0</td>\n",
       "      <td>Social</td>\n",
       "    </tr>\n",
       "    <tr>\n",
       "      <th>3</th>\n",
       "      <td>3</td>\n",
       "      <td>0</td>\n",
       "      <td>Money</td>\n",
       "    </tr>\n",
       "    <tr>\n",
       "      <th>4</th>\n",
       "      <td>4</td>\n",
       "      <td>0</td>\n",
       "      <td>Social</td>\n",
       "    </tr>\n",
       "  </tbody>\n",
       "</table>\n",
       "</div>"
      ],
      "text/plain": [
       "   user_id  level_1   app_category\n",
       "0        0        0  Entertainment\n",
       "1        1        0         Social\n",
       "2        2        0         Social\n",
       "3        3        0          Money\n",
       "4        4        0         Social"
      ]
     },
     "execution_count": 39,
     "metadata": {},
     "output_type": "execute_result"
    }
   ],
   "source": [
    "top_categories = (\n",
    "    app_data_merged\n",
    "    .groupby(\"user_id\")\n",
    "    [\"app_category\"]\n",
    "    .apply(pd.Series.mode)\n",
    "    .reset_index()\n",
    ")\n",
    "\n",
    "top_categories.head()"
   ]
  },
  {
   "cell_type": "markdown",
   "id": "cdb0fd0d-7c36-4b4f-a4ac-aef87721f81d",
   "metadata": {},
   "source": [
    "As with times, there may be users with multiple app types as their most common. Let's find them."
   ]
  },
  {
   "cell_type": "code",
   "execution_count": 40,
   "id": "c07d40e2-744f-496b-b707-0a1b47f61680",
   "metadata": {},
   "outputs": [
    {
     "data": {
      "text/html": [
       "<div>\n",
       "<style scoped>\n",
       "    .dataframe tbody tr th:only-of-type {\n",
       "        vertical-align: middle;\n",
       "    }\n",
       "\n",
       "    .dataframe tbody tr th {\n",
       "        vertical-align: top;\n",
       "    }\n",
       "\n",
       "    .dataframe thead th {\n",
       "        text-align: right;\n",
       "    }\n",
       "</style>\n",
       "<table border=\"1\" class=\"dataframe\">\n",
       "  <thead>\n",
       "    <tr style=\"text-align: right;\">\n",
       "      <th></th>\n",
       "      <th>user_id</th>\n",
       "      <th>level_1</th>\n",
       "      <th>app_category</th>\n",
       "    </tr>\n",
       "  </thead>\n",
       "  <tbody>\n",
       "    <tr>\n",
       "      <th>36</th>\n",
       "      <td>35</td>\n",
       "      <td>1</td>\n",
       "      <td>Utility</td>\n",
       "    </tr>\n",
       "    <tr>\n",
       "      <th>134</th>\n",
       "      <td>132</td>\n",
       "      <td>1</td>\n",
       "      <td>Utility</td>\n",
       "    </tr>\n",
       "    <tr>\n",
       "      <th>226</th>\n",
       "      <td>223</td>\n",
       "      <td>1</td>\n",
       "      <td>Social</td>\n",
       "    </tr>\n",
       "  </tbody>\n",
       "</table>\n",
       "</div>"
      ],
      "text/plain": [
       "     user_id  level_1 app_category\n",
       "36        35        1      Utility\n",
       "134      132        1      Utility\n",
       "226      223        1       Social"
      ]
     },
     "execution_count": 40,
     "metadata": {},
     "output_type": "execute_result"
    }
   ],
   "source": [
    "top_categories[top_categories[\"level_1\"] > 0]"
   ]
  },
  {
   "cell_type": "markdown",
   "id": "d79f5db6-eac1-4854-8712-2ed65ba733f0",
   "metadata": {},
   "source": [
    "Just 3 users. Let's examine them in a bit more detail"
   ]
  },
  {
   "cell_type": "code",
   "execution_count": 41,
   "id": "35ca8d19-1d13-482b-b01d-62c2723069bb",
   "metadata": {},
   "outputs": [
    {
     "data": {
      "text/html": [
       "<div>\n",
       "<style scoped>\n",
       "    .dataframe tbody tr th:only-of-type {\n",
       "        vertical-align: middle;\n",
       "    }\n",
       "\n",
       "    .dataframe tbody tr th {\n",
       "        vertical-align: top;\n",
       "    }\n",
       "\n",
       "    .dataframe thead th {\n",
       "        text-align: right;\n",
       "    }\n",
       "</style>\n",
       "<table border=\"1\" class=\"dataframe\">\n",
       "  <thead>\n",
       "    <tr style=\"text-align: right;\">\n",
       "      <th></th>\n",
       "      <th>user_id</th>\n",
       "      <th>level_1</th>\n",
       "      <th>app_category</th>\n",
       "    </tr>\n",
       "  </thead>\n",
       "  <tbody>\n",
       "    <tr>\n",
       "      <th>35</th>\n",
       "      <td>35</td>\n",
       "      <td>0</td>\n",
       "      <td>Social</td>\n",
       "    </tr>\n",
       "    <tr>\n",
       "      <th>36</th>\n",
       "      <td>35</td>\n",
       "      <td>1</td>\n",
       "      <td>Utility</td>\n",
       "    </tr>\n",
       "    <tr>\n",
       "      <th>133</th>\n",
       "      <td>132</td>\n",
       "      <td>0</td>\n",
       "      <td>Social</td>\n",
       "    </tr>\n",
       "    <tr>\n",
       "      <th>134</th>\n",
       "      <td>132</td>\n",
       "      <td>1</td>\n",
       "      <td>Utility</td>\n",
       "    </tr>\n",
       "    <tr>\n",
       "      <th>225</th>\n",
       "      <td>223</td>\n",
       "      <td>0</td>\n",
       "      <td>Browsing</td>\n",
       "    </tr>\n",
       "    <tr>\n",
       "      <th>226</th>\n",
       "      <td>223</td>\n",
       "      <td>1</td>\n",
       "      <td>Social</td>\n",
       "    </tr>\n",
       "  </tbody>\n",
       "</table>\n",
       "</div>"
      ],
      "text/plain": [
       "     user_id  level_1 app_category\n",
       "35        35        0       Social\n",
       "36        35        1      Utility\n",
       "133      132        0       Social\n",
       "134      132        1      Utility\n",
       "225      223        0     Browsing\n",
       "226      223        1       Social"
      ]
     },
     "execution_count": 41,
     "metadata": {},
     "output_type": "execute_result"
    }
   ],
   "source": [
    "top_categories[top_categories[\"user_id\"].isin([35, 223, 132])]"
   ]
  },
  {
   "cell_type": "code",
   "execution_count": 42,
   "id": "e3e58cd0-26fc-4d68-9561-64391fd7c676",
   "metadata": {},
   "outputs": [
    {
     "data": {
      "text/plain": [
       "app_category   app_name                \n",
       "Browsing       Google Chrome               21\n",
       "               Samsung Internet Browser     1\n",
       "Entertainment  Google Play Store            6\n",
       "Social         Gmail                       17\n",
       "               Telegram                     7\n",
       "Utility        Camera                       4\n",
       "               Samsung Gallery              5\n",
       "               Samsung Notes                1\n",
       "               Settings                    14\n",
       "dtype: int64"
      ]
     },
     "execution_count": 42,
     "metadata": {},
     "output_type": "execute_result"
    }
   ],
   "source": [
    "(\n",
    "    app_data_merged[app_data_merged[\"user_id\"] == 35]\n",
    "    .groupby([\"app_category\", \"app_name\"])\n",
    "    .size()\n",
    ")"
   ]
  },
  {
   "cell_type": "markdown",
   "id": "a75d3c0e-668e-472e-9108-24477cbafbf2",
   "metadata": {},
   "source": [
    "User 35 used the Settings app a bit, but mostly Gmail and browsing. Let's categorize them as \"Social\" rather than \"Utility\"."
   ]
  },
  {
   "cell_type": "code",
   "execution_count": 43,
   "id": "28944633-05f7-49bf-8cfd-c566a54777cb",
   "metadata": {},
   "outputs": [
    {
     "data": {
      "text/plain": [
       "app_category   app_name         \n",
       "Browsing       Google                1\n",
       "               Google Chrome         6\n",
       "Entertainment  Google Play Store     3\n",
       "               YouTube               3\n",
       "Social         Messages             15\n",
       "Utility        Contacts              1\n",
       "               Google Drive          2\n",
       "               Maps                  1\n",
       "               Settings             11\n",
       "dtype: int64"
      ]
     },
     "execution_count": 43,
     "metadata": {},
     "output_type": "execute_result"
    }
   ],
   "source": [
    "app_data_merged[app_data_merged[\"user_id\"] == 132].groupby([\"app_category\", \"app_name\"]).size()"
   ]
  },
  {
   "cell_type": "markdown",
   "id": "cec1141c-3cfc-4eae-8b9e-5e9e23defa01",
   "metadata": {},
   "source": [
    "Again, for user 132, a few instances of Settings but Social is probably a better descriptor for this user.\n",
    "\n",
    "Let's drop both those Utility records."
   ]
  },
  {
   "cell_type": "code",
   "execution_count": 44,
   "id": "0cda0a54-9098-4897-bcb1-a8f08d0e7a13",
   "metadata": {},
   "outputs": [],
   "source": [
    "top_categories = (\n",
    "    top_categories\n",
    "    .drop(\n",
    "        index=top_categories[\n",
    "            (top_categories[\"user_id\"].isin([35, 132]))\n",
    "            & (top_categories[\"app_category\"] == \"Utility\")\n",
    "            ].index\n",
    "    )\n",
    ")"
   ]
  },
  {
   "cell_type": "code",
   "execution_count": 45,
   "id": "5440c76f-fc25-4d80-bffc-09b3f33ad908",
   "metadata": {},
   "outputs": [
    {
     "data": {
      "text/plain": [
       "app_category   app_name          \n",
       "Browsing       Google                19\n",
       "               Google Chrome          3\n",
       "Entertainment  Google Play Store      9\n",
       "Social         Facebook               8\n",
       "               Facebook Messenger     7\n",
       "               Gmail                  1\n",
       "               TextNow                6\n",
       "Utility        Settings               5\n",
       "dtype: int64"
      ]
     },
     "execution_count": 45,
     "metadata": {},
     "output_type": "execute_result"
    }
   ],
   "source": [
    "(\n",
    "    app_data_merged[app_data_merged[\"user_id\"] == 223]\n",
    "    .groupby([\"app_category\", \"app_name\"])\n",
    "    .size()\n",
    ")"
   ]
  },
  {
   "cell_type": "markdown",
   "id": "5d9d5f77-a9cf-4640-8920-bd12d98198cd",
   "metadata": {},
   "source": [
    "A tie between browsing and social. The \"Google\" app is not quite as strong a signal for browsing so let's call this user \"Social\"."
   ]
  },
  {
   "cell_type": "code",
   "execution_count": 46,
   "id": "c0a0c259-47fc-45fd-b1a7-bae83364d2e3",
   "metadata": {},
   "outputs": [],
   "source": [
    "top_categories = (\n",
    "    top_categories\n",
    "    .drop(\n",
    "        index=top_categories[\n",
    "            (top_categories[\"user_id\"] == 223)\n",
    "            & (top_categories[\"app_category\"] == \"Browsing\")\n",
    "            ].index\n",
    "    )\n",
    ")"
   ]
  },
  {
   "cell_type": "code",
   "execution_count": 47,
   "id": "734bca6e-72b0-408a-a536-daca5fcd007e",
   "metadata": {},
   "outputs": [
    {
     "data": {
      "text/plain": [
       "Series([], Name: user_id, dtype: int64)"
      ]
     },
     "execution_count": 47,
     "metadata": {},
     "output_type": "execute_result"
    }
   ],
   "source": [
    "top_categories[\"user_id\"].value_counts().loc[lambda x: x > 1]"
   ]
  },
  {
   "cell_type": "markdown",
   "id": "b0f7753d-913d-49c8-97fb-77a3c39a24b0",
   "metadata": {},
   "source": [
    "Now, we will turn our \"top category\" data into one-hot encoded variables so we can use it in a clustering algorithm. We'll also drop that unnecessary `level_1` column."
   ]
  },
  {
   "cell_type": "code",
   "execution_count": 48,
   "id": "9272dc1c-c453-4d36-b84d-02a3444e95ed",
   "metadata": {},
   "outputs": [
    {
     "data": {
      "text/html": [
       "<div>\n",
       "<style scoped>\n",
       "    .dataframe tbody tr th:only-of-type {\n",
       "        vertical-align: middle;\n",
       "    }\n",
       "\n",
       "    .dataframe tbody tr th {\n",
       "        vertical-align: top;\n",
       "    }\n",
       "\n",
       "    .dataframe thead th {\n",
       "        text-align: right;\n",
       "    }\n",
       "</style>\n",
       "<table border=\"1\" class=\"dataframe\">\n",
       "  <thead>\n",
       "    <tr style=\"text-align: right;\">\n",
       "      <th></th>\n",
       "      <th>user_id</th>\n",
       "      <th>app_category_Browsing</th>\n",
       "      <th>app_category_Entertainment</th>\n",
       "      <th>app_category_Money</th>\n",
       "      <th>app_category_Social</th>\n",
       "      <th>app_category_Utility</th>\n",
       "    </tr>\n",
       "  </thead>\n",
       "  <tbody>\n",
       "    <tr>\n",
       "      <th>0</th>\n",
       "      <td>0</td>\n",
       "      <td>0</td>\n",
       "      <td>1</td>\n",
       "      <td>0</td>\n",
       "      <td>0</td>\n",
       "      <td>0</td>\n",
       "    </tr>\n",
       "    <tr>\n",
       "      <th>1</th>\n",
       "      <td>1</td>\n",
       "      <td>0</td>\n",
       "      <td>0</td>\n",
       "      <td>0</td>\n",
       "      <td>1</td>\n",
       "      <td>0</td>\n",
       "    </tr>\n",
       "    <tr>\n",
       "      <th>2</th>\n",
       "      <td>2</td>\n",
       "      <td>0</td>\n",
       "      <td>0</td>\n",
       "      <td>0</td>\n",
       "      <td>1</td>\n",
       "      <td>0</td>\n",
       "    </tr>\n",
       "    <tr>\n",
       "      <th>3</th>\n",
       "      <td>3</td>\n",
       "      <td>0</td>\n",
       "      <td>0</td>\n",
       "      <td>1</td>\n",
       "      <td>0</td>\n",
       "      <td>0</td>\n",
       "    </tr>\n",
       "    <tr>\n",
       "      <th>4</th>\n",
       "      <td>4</td>\n",
       "      <td>0</td>\n",
       "      <td>0</td>\n",
       "      <td>0</td>\n",
       "      <td>1</td>\n",
       "      <td>0</td>\n",
       "    </tr>\n",
       "  </tbody>\n",
       "</table>\n",
       "</div>"
      ],
      "text/plain": [
       "   user_id  app_category_Browsing  app_category_Entertainment  \\\n",
       "0        0                      0                           1   \n",
       "1        1                      0                           0   \n",
       "2        2                      0                           0   \n",
       "3        3                      0                           0   \n",
       "4        4                      0                           0   \n",
       "\n",
       "   app_category_Money  app_category_Social  app_category_Utility  \n",
       "0                   0                    0                     0  \n",
       "1                   0                    1                     0  \n",
       "2                   0                    1                     0  \n",
       "3                   1                    0                     0  \n",
       "4                   0                    1                     0  "
      ]
     },
     "execution_count": 48,
     "metadata": {},
     "output_type": "execute_result"
    }
   ],
   "source": [
    "top_categories = (\n",
    "    pd.get_dummies(\n",
    "        top_categories,\n",
    "        columns=[\"app_category\"]\n",
    "    ).drop(\n",
    "        columns=[\"level_1\"]\n",
    "    )\n",
    ")\n",
    "\n",
    "top_categories.head()"
   ]
  },
  {
   "cell_type": "markdown",
   "id": "b16ee271-9ce6-4297-8b61-b3c18837fba8",
   "metadata": {},
   "source": [
    "Join this to our growing user table"
   ]
  },
  {
   "cell_type": "code",
   "execution_count": 49,
   "id": "022c9e6e-b037-4414-bccd-5a0a0c1c8692",
   "metadata": {},
   "outputs": [],
   "source": [
    "size_before = len(users)\n",
    "users = users.merge(top_categories, on=\"user_id\")\n",
    "size_after = len(users)\n",
    "assert size_before == size_after"
   ]
  },
  {
   "cell_type": "code",
   "execution_count": 50,
   "id": "d8ee820e-8d71-48e8-b203-f8bb02a5ccfd",
   "metadata": {},
   "outputs": [
    {
     "data": {
      "text/html": [
       "<div>\n",
       "<style scoped>\n",
       "    .dataframe tbody tr th:only-of-type {\n",
       "        vertical-align: middle;\n",
       "    }\n",
       "\n",
       "    .dataframe tbody tr th {\n",
       "        vertical-align: top;\n",
       "    }\n",
       "\n",
       "    .dataframe thead th {\n",
       "        text-align: right;\n",
       "    }\n",
       "</style>\n",
       "<table border=\"1\" class=\"dataframe\">\n",
       "  <thead>\n",
       "    <tr style=\"text-align: right;\">\n",
       "      <th></th>\n",
       "      <th>user_id</th>\n",
       "      <th>time_night_owl</th>\n",
       "      <th>time_early_morning_browser</th>\n",
       "      <th>time_midday_browser</th>\n",
       "      <th>time_late_day_browser</th>\n",
       "      <th>app_category_Browsing</th>\n",
       "      <th>app_category_Entertainment</th>\n",
       "      <th>app_category_Money</th>\n",
       "      <th>app_category_Social</th>\n",
       "      <th>app_category_Utility</th>\n",
       "    </tr>\n",
       "  </thead>\n",
       "  <tbody>\n",
       "    <tr>\n",
       "      <th>0</th>\n",
       "      <td>0</td>\n",
       "      <td>1</td>\n",
       "      <td>0</td>\n",
       "      <td>0</td>\n",
       "      <td>1</td>\n",
       "      <td>0</td>\n",
       "      <td>1</td>\n",
       "      <td>0</td>\n",
       "      <td>0</td>\n",
       "      <td>0</td>\n",
       "    </tr>\n",
       "    <tr>\n",
       "      <th>1</th>\n",
       "      <td>1</td>\n",
       "      <td>0</td>\n",
       "      <td>0</td>\n",
       "      <td>0</td>\n",
       "      <td>1</td>\n",
       "      <td>0</td>\n",
       "      <td>0</td>\n",
       "      <td>0</td>\n",
       "      <td>1</td>\n",
       "      <td>0</td>\n",
       "    </tr>\n",
       "    <tr>\n",
       "      <th>2</th>\n",
       "      <td>2</td>\n",
       "      <td>0</td>\n",
       "      <td>1</td>\n",
       "      <td>0</td>\n",
       "      <td>0</td>\n",
       "      <td>0</td>\n",
       "      <td>0</td>\n",
       "      <td>0</td>\n",
       "      <td>1</td>\n",
       "      <td>0</td>\n",
       "    </tr>\n",
       "    <tr>\n",
       "      <th>3</th>\n",
       "      <td>3</td>\n",
       "      <td>0</td>\n",
       "      <td>0</td>\n",
       "      <td>0</td>\n",
       "      <td>1</td>\n",
       "      <td>0</td>\n",
       "      <td>0</td>\n",
       "      <td>1</td>\n",
       "      <td>0</td>\n",
       "      <td>0</td>\n",
       "    </tr>\n",
       "    <tr>\n",
       "      <th>4</th>\n",
       "      <td>4</td>\n",
       "      <td>1</td>\n",
       "      <td>0</td>\n",
       "      <td>0</td>\n",
       "      <td>0</td>\n",
       "      <td>0</td>\n",
       "      <td>0</td>\n",
       "      <td>0</td>\n",
       "      <td>1</td>\n",
       "      <td>0</td>\n",
       "    </tr>\n",
       "  </tbody>\n",
       "</table>\n",
       "</div>"
      ],
      "text/plain": [
       "   user_id  time_night_owl  time_early_morning_browser  time_midday_browser  \\\n",
       "0        0               1                           0                    0   \n",
       "1        1               0                           0                    0   \n",
       "2        2               0                           1                    0   \n",
       "3        3               0                           0                    0   \n",
       "4        4               1                           0                    0   \n",
       "\n",
       "   time_late_day_browser  app_category_Browsing  app_category_Entertainment  \\\n",
       "0                      1                      0                           1   \n",
       "1                      1                      0                           0   \n",
       "2                      0                      0                           0   \n",
       "3                      1                      0                           0   \n",
       "4                      0                      0                           0   \n",
       "\n",
       "   app_category_Money  app_category_Social  app_category_Utility  \n",
       "0                   0                    0                     0  \n",
       "1                   0                    1                     0  \n",
       "2                   0                    1                     0  \n",
       "3                   1                    0                     0  \n",
       "4                   0                    1                     0  "
      ]
     },
     "execution_count": 50,
     "metadata": {},
     "output_type": "execute_result"
    }
   ],
   "source": [
    "users.head()"
   ]
  },
  {
   "cell_type": "markdown",
   "id": "89e4a173-2fb9-4d81-b39d-06f2105b7d2c",
   "metadata": {},
   "source": [
    "### Add the other features\n",
    "\n",
    "We should also include the features that were used initially, namely:\n",
    "\n",
    "- number of unique apps per user\n",
    "- average length of user session\n",
    "\n",
    "Let's also put in \"number of unique sessions\" as a proxy for frequency."
   ]
  },
  {
   "cell_type": "code",
   "execution_count": 51,
   "id": "fc6e75a2-ea90-4506-a0ad-e5cce211f1f4",
   "metadata": {},
   "outputs": [
    {
     "data": {
      "text/html": [
       "<div>\n",
       "<style scoped>\n",
       "    .dataframe tbody tr th:only-of-type {\n",
       "        vertical-align: middle;\n",
       "    }\n",
       "\n",
       "    .dataframe tbody tr th {\n",
       "        vertical-align: top;\n",
       "    }\n",
       "\n",
       "    .dataframe thead th {\n",
       "        text-align: right;\n",
       "    }\n",
       "</style>\n",
       "<table border=\"1\" class=\"dataframe\">\n",
       "  <thead>\n",
       "    <tr style=\"text-align: right;\">\n",
       "      <th></th>\n",
       "      <th>user_id</th>\n",
       "      <th>number_of_apps</th>\n",
       "      <th>number_of_sessions</th>\n",
       "    </tr>\n",
       "  </thead>\n",
       "  <tbody>\n",
       "    <tr>\n",
       "      <th>0</th>\n",
       "      <td>0</td>\n",
       "      <td>19</td>\n",
       "      <td>238</td>\n",
       "    </tr>\n",
       "    <tr>\n",
       "      <th>1</th>\n",
       "      <td>1</td>\n",
       "      <td>18</td>\n",
       "      <td>88</td>\n",
       "    </tr>\n",
       "    <tr>\n",
       "      <th>2</th>\n",
       "      <td>2</td>\n",
       "      <td>16</td>\n",
       "      <td>61</td>\n",
       "    </tr>\n",
       "    <tr>\n",
       "      <th>3</th>\n",
       "      <td>3</td>\n",
       "      <td>15</td>\n",
       "      <td>70</td>\n",
       "    </tr>\n",
       "    <tr>\n",
       "      <th>4</th>\n",
       "      <td>4</td>\n",
       "      <td>8</td>\n",
       "      <td>45</td>\n",
       "    </tr>\n",
       "  </tbody>\n",
       "</table>\n",
       "</div>"
      ],
      "text/plain": [
       "   user_id  number_of_apps  number_of_sessions\n",
       "0        0              19                 238\n",
       "1        1              18                  88\n",
       "2        2              16                  61\n",
       "3        3              15                  70\n",
       "4        4               8                  45"
      ]
     },
     "execution_count": 51,
     "metadata": {},
     "output_type": "execute_result"
    }
   ],
   "source": [
    "user_metrics = (\n",
    "    app_data_merged\n",
    "    .groupby([\"user_id\"])\n",
    "    .agg(\n",
    "        number_of_apps=(\"app_name\", \"nunique\"),\n",
    "        number_of_sessions=(\"session_id\", \"nunique\")\n",
    "    )\n",
    "    .reset_index()\n",
    ")\n",
    "\n",
    "user_metrics.head()"
   ]
  },
  {
   "cell_type": "markdown",
   "id": "8ca68615-dc78-4013-9ca1-b6f71b9ec3b8",
   "metadata": {},
   "source": [
    "Join this to our user data"
   ]
  },
  {
   "cell_type": "code",
   "execution_count": 52,
   "id": "50e918ec-8bd1-4ea1-b348-95354f0158fc",
   "metadata": {},
   "outputs": [],
   "source": [
    "size_before = len(users)\n",
    "users = users.merge(user_metrics, on=\"user_id\")\n",
    "size_after = len(users)\n",
    "assert size_before == size_after"
   ]
  },
  {
   "cell_type": "markdown",
   "id": "40e661df-f08b-4b86-a475-88161a50c856",
   "metadata": {},
   "source": [
    "Now calculate average session time"
   ]
  },
  {
   "cell_type": "code",
   "execution_count": 53,
   "id": "751d1e54-bfba-438e-a4b3-5f16326f772a",
   "metadata": {},
   "outputs": [
    {
     "data": {
      "text/html": [
       "<div>\n",
       "<style scoped>\n",
       "    .dataframe tbody tr th:only-of-type {\n",
       "        vertical-align: middle;\n",
       "    }\n",
       "\n",
       "    .dataframe tbody tr th {\n",
       "        vertical-align: top;\n",
       "    }\n",
       "\n",
       "    .dataframe thead th {\n",
       "        text-align: right;\n",
       "    }\n",
       "</style>\n",
       "<table border=\"1\" class=\"dataframe\">\n",
       "  <thead>\n",
       "    <tr style=\"text-align: right;\">\n",
       "      <th></th>\n",
       "      <th>user_id</th>\n",
       "      <th>avg_session_length</th>\n",
       "    </tr>\n",
       "  </thead>\n",
       "  <tbody>\n",
       "    <tr>\n",
       "      <th>0</th>\n",
       "      <td>0</td>\n",
       "      <td>0.658333</td>\n",
       "    </tr>\n",
       "    <tr>\n",
       "      <th>1</th>\n",
       "      <td>1</td>\n",
       "      <td>1.483333</td>\n",
       "    </tr>\n",
       "    <tr>\n",
       "      <th>2</th>\n",
       "      <td>2</td>\n",
       "      <td>0.533333</td>\n",
       "    </tr>\n",
       "    <tr>\n",
       "      <th>3</th>\n",
       "      <td>3</td>\n",
       "      <td>0.116667</td>\n",
       "    </tr>\n",
       "    <tr>\n",
       "      <th>4</th>\n",
       "      <td>4</td>\n",
       "      <td>0.233333</td>\n",
       "    </tr>\n",
       "  </tbody>\n",
       "</table>\n",
       "</div>"
      ],
      "text/plain": [
       "   user_id  avg_session_length\n",
       "0        0            0.658333\n",
       "1        1            1.483333\n",
       "2        2            0.533333\n",
       "3        3            0.116667\n",
       "4        4            0.233333"
      ]
     },
     "execution_count": 53,
     "metadata": {},
     "output_type": "execute_result"
    }
   ],
   "source": [
    "avg_sessions = (\n",
    "    sessions\n",
    "    .groupby(\"user_id\")\n",
    "    .agg(avg_session_length=(\"duration_mins\", \"median\"))\n",
    "    .reset_index()\n",
    ")\n",
    "\n",
    "avg_sessions.head()"
   ]
  },
  {
   "cell_type": "markdown",
   "id": "e33c8099-c7fe-4baf-8301-ba9fcb12dfec",
   "metadata": {},
   "source": [
    "Finally, join this to the user data"
   ]
  },
  {
   "cell_type": "code",
   "execution_count": 54,
   "id": "fdab321e-9b93-430a-acd7-30f5ec89738c",
   "metadata": {},
   "outputs": [],
   "source": [
    "size_before = len(users)\n",
    "users = users.merge(avg_sessions, on=\"user_id\")\n",
    "size_after = len(users)\n",
    "assert size_before == size_after"
   ]
  },
  {
   "cell_type": "code",
   "execution_count": 55,
   "id": "7098c563-756e-40a6-b7f9-80a904a25c22",
   "metadata": {},
   "outputs": [
    {
     "data": {
      "text/plain": [
       "Index(['user_id', 'time_night_owl', 'time_early_morning_browser',\n",
       "       'time_midday_browser', 'time_late_day_browser', 'app_category_Browsing',\n",
       "       'app_category_Entertainment', 'app_category_Money',\n",
       "       'app_category_Social', 'app_category_Utility', 'number_of_apps',\n",
       "       'number_of_sessions', 'avg_session_length'],\n",
       "      dtype='object')"
      ]
     },
     "execution_count": 55,
     "metadata": {},
     "output_type": "execute_result"
    }
   ],
   "source": [
    "users.columns"
   ]
  },
  {
   "cell_type": "code",
   "execution_count": 56,
   "id": "6cea1ea3-d3de-41e2-887d-7c81c10620dc",
   "metadata": {},
   "outputs": [
    {
     "data": {
      "text/html": [
       "<div>\n",
       "<style scoped>\n",
       "    .dataframe tbody tr th:only-of-type {\n",
       "        vertical-align: middle;\n",
       "    }\n",
       "\n",
       "    .dataframe tbody tr th {\n",
       "        vertical-align: top;\n",
       "    }\n",
       "\n",
       "    .dataframe thead th {\n",
       "        text-align: right;\n",
       "    }\n",
       "</style>\n",
       "<table border=\"1\" class=\"dataframe\">\n",
       "  <thead>\n",
       "    <tr style=\"text-align: right;\">\n",
       "      <th></th>\n",
       "      <th>user_id</th>\n",
       "      <th>time_night_owl</th>\n",
       "      <th>time_early_morning_browser</th>\n",
       "      <th>time_midday_browser</th>\n",
       "      <th>time_late_day_browser</th>\n",
       "      <th>app_category_Browsing</th>\n",
       "      <th>app_category_Entertainment</th>\n",
       "      <th>app_category_Money</th>\n",
       "      <th>app_category_Social</th>\n",
       "      <th>app_category_Utility</th>\n",
       "      <th>number_of_apps</th>\n",
       "      <th>number_of_sessions</th>\n",
       "      <th>avg_session_length</th>\n",
       "    </tr>\n",
       "  </thead>\n",
       "  <tbody>\n",
       "    <tr>\n",
       "      <th>0</th>\n",
       "      <td>0</td>\n",
       "      <td>1</td>\n",
       "      <td>0</td>\n",
       "      <td>0</td>\n",
       "      <td>1</td>\n",
       "      <td>0</td>\n",
       "      <td>1</td>\n",
       "      <td>0</td>\n",
       "      <td>0</td>\n",
       "      <td>0</td>\n",
       "      <td>19</td>\n",
       "      <td>238</td>\n",
       "      <td>0.658333</td>\n",
       "    </tr>\n",
       "    <tr>\n",
       "      <th>1</th>\n",
       "      <td>1</td>\n",
       "      <td>0</td>\n",
       "      <td>0</td>\n",
       "      <td>0</td>\n",
       "      <td>1</td>\n",
       "      <td>0</td>\n",
       "      <td>0</td>\n",
       "      <td>0</td>\n",
       "      <td>1</td>\n",
       "      <td>0</td>\n",
       "      <td>18</td>\n",
       "      <td>88</td>\n",
       "      <td>1.483333</td>\n",
       "    </tr>\n",
       "    <tr>\n",
       "      <th>2</th>\n",
       "      <td>2</td>\n",
       "      <td>0</td>\n",
       "      <td>1</td>\n",
       "      <td>0</td>\n",
       "      <td>0</td>\n",
       "      <td>0</td>\n",
       "      <td>0</td>\n",
       "      <td>0</td>\n",
       "      <td>1</td>\n",
       "      <td>0</td>\n",
       "      <td>16</td>\n",
       "      <td>61</td>\n",
       "      <td>0.533333</td>\n",
       "    </tr>\n",
       "    <tr>\n",
       "      <th>3</th>\n",
       "      <td>3</td>\n",
       "      <td>0</td>\n",
       "      <td>0</td>\n",
       "      <td>0</td>\n",
       "      <td>1</td>\n",
       "      <td>0</td>\n",
       "      <td>0</td>\n",
       "      <td>1</td>\n",
       "      <td>0</td>\n",
       "      <td>0</td>\n",
       "      <td>15</td>\n",
       "      <td>70</td>\n",
       "      <td>0.116667</td>\n",
       "    </tr>\n",
       "    <tr>\n",
       "      <th>4</th>\n",
       "      <td>4</td>\n",
       "      <td>1</td>\n",
       "      <td>0</td>\n",
       "      <td>0</td>\n",
       "      <td>0</td>\n",
       "      <td>0</td>\n",
       "      <td>0</td>\n",
       "      <td>0</td>\n",
       "      <td>1</td>\n",
       "      <td>0</td>\n",
       "      <td>8</td>\n",
       "      <td>45</td>\n",
       "      <td>0.233333</td>\n",
       "    </tr>\n",
       "  </tbody>\n",
       "</table>\n",
       "</div>"
      ],
      "text/plain": [
       "   user_id  time_night_owl  time_early_morning_browser  time_midday_browser  \\\n",
       "0        0               1                           0                    0   \n",
       "1        1               0                           0                    0   \n",
       "2        2               0                           1                    0   \n",
       "3        3               0                           0                    0   \n",
       "4        4               1                           0                    0   \n",
       "\n",
       "   time_late_day_browser  app_category_Browsing  app_category_Entertainment  \\\n",
       "0                      1                      0                           1   \n",
       "1                      1                      0                           0   \n",
       "2                      0                      0                           0   \n",
       "3                      1                      0                           0   \n",
       "4                      0                      0                           0   \n",
       "\n",
       "   app_category_Money  app_category_Social  app_category_Utility  \\\n",
       "0                   0                    0                     0   \n",
       "1                   0                    1                     0   \n",
       "2                   0                    1                     0   \n",
       "3                   1                    0                     0   \n",
       "4                   0                    1                     0   \n",
       "\n",
       "   number_of_apps  number_of_sessions  avg_session_length  \n",
       "0              19                 238            0.658333  \n",
       "1              18                  88            1.483333  \n",
       "2              16                  61            0.533333  \n",
       "3              15                  70            0.116667  \n",
       "4               8                  45            0.233333  "
      ]
     },
     "execution_count": 56,
     "metadata": {},
     "output_type": "execute_result"
    }
   ],
   "source": [
    "users.head()"
   ]
  },
  {
   "cell_type": "markdown",
   "id": "9767d2a4-4059-48b3-bd13-b989ae7246d3",
   "metadata": {},
   "source": [
    "### Export data for clustering in next chapter"
   ]
  },
  {
   "cell_type": "code",
   "execution_count": 57,
   "id": "48048836-50c6-4c62-837c-6a2dc416b4d0",
   "metadata": {},
   "outputs": [],
   "source": [
    "users.to_parquet(\"../chapter-13/data/users.parquet\", index=False)"
   ]
  }
 ],
 "metadata": {
  "kernelspec": {
   "display_name": "Python 3 (ipykernel)",
   "language": "python",
   "name": "python3"
  },
  "language_info": {
   "codemirror_mode": {
    "name": "ipython",
    "version": 3
   },
   "file_extension": ".py",
   "mimetype": "text/x-python",
   "name": "python",
   "nbconvert_exporter": "python",
   "pygments_lexer": "ipython3",
   "version": "3.11.9"
  }
 },
 "nbformat": 4,
 "nbformat_minor": 5
}
